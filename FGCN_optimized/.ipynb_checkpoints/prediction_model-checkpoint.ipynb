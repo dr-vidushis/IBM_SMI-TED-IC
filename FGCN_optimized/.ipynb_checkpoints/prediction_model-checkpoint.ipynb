{
 "cells": [
  {
   "cell_type": "code",
   "execution_count": 1,
   "id": "7267dfed-a8e2-46a1-bf17-00b6d73e1864",
   "metadata": {},
   "outputs": [
    {
     "name": "stderr",
     "output_type": "stream",
     "text": [
      "2024-11-11 23:05:13.460336: I tensorflow/core/util/port.cc:110] oneDNN custom operations are on. You may see slightly different numerical results due to floating-point round-off errors from different computation orders. To turn them off, set the environment variable `TF_ENABLE_ONEDNN_OPTS=0`.\n",
      "2024-11-11 23:05:13.964333: I tensorflow/tsl/cuda/cudart_stub.cc:28] Could not find cuda drivers on your machine, GPU will not be used.\n",
      "2024-11-11 23:05:18.912307: I tensorflow/tsl/cuda/cudart_stub.cc:28] Could not find cuda drivers on your machine, GPU will not be used.\n",
      "2024-11-11 23:05:18.918671: I tensorflow/core/platform/cpu_feature_guard.cc:182] This TensorFlow binary is optimized to use available CPU instructions in performance-critical operations.\n",
      "To enable the following instructions: AVX2 AVX512F AVX512_VNNI FMA, in other operations, rebuild TensorFlow with the appropriate compiler flags.\n",
      "2024-11-11 23:05:25.827376: W tensorflow/compiler/tf2tensorrt/utils/py_utils.cc:38] TF-TRT Warning: Could not find TensorRT\n"
     ]
    }
   ],
   "source": [
    "import matplotlib.pyplot as plt\n",
    "import seaborn as sns\n",
    "import matplotlib as mpl\n",
    "import numpy as np\n",
    "import warnings\n",
    "import pandas as pd\n",
    "import networkx as nx\n",
    "import math\n",
    "import glob\n",
    "from sklearn.metrics import r2_score\n",
    "\n",
    "\n",
    "# RDkit\n",
    "import rdkit\n",
    "from rdkit import Chem\n",
    "from rdkit.Chem.rdmolops import GetAdjacencyMatrix\n",
    "from rdkit.Chem.Draw import IPythonConsole\n",
    "\n",
    "IPythonConsole.ipython_useSVG = True # < use SVGs instead of PNGs\n",
    "IPythonConsole.drawOptions.addAtomIndices = True # adding indices\n",
    "IPythonConsole.molSize = 300, 300\n",
    "\n",
    "# Tensorflow\n",
    "import tensorflow as tf\n",
    "from tensorflow import keras\n",
    "from tensorflow.keras import layers\n",
    "#from tensorflow.keras import layers\n",
    "from tensorflow.keras import regularizers\n",
    "\n",
    "import tensorflow.compat.v1.keras.backend as K\n",
    "import tensorflow as tf\n",
    "import pydot\n",
    "\n",
    "#tf.compat.v1.disable_eager_execution()\n",
    "\n",
    "warnings.filterwarnings(\"ignore\")\n",
    "\n",
    "# logging\n",
    "import logging \n",
    "logging.basicConfig(format='%(message)s')\n",
    "log = logging.getLogger()\n",
    "log.setLevel(logging.INFO)"
   ]
  },
  {
   "cell_type": "code",
   "execution_count": 2,
   "id": "49ec7efa-fd15-4576-b32f-9423a03c043a",
   "metadata": {
    "jupyter": {
     "source_hidden": true
    }
   },
   "outputs": [],
   "source": [
    "def make_adjacency_matrix(adjacency_mat: np.ndarray, edges: list, map_indexes: dict = None):\n",
    "    \"\"\"\n",
    "    Function to make the adjacency matrix\n",
    "    :params adjacency_mat: numpy array - blank numpy array of n nodes sqaure\n",
    "    :params edges: iterable - iterable of paris of nodes to defined edges these \n",
    "                              will be sorted and indexed based on the sorted iterable\n",
    "    :return adjacency_mat: numpy array\n",
    "    \"\"\"\n",
    "    \n",
    "    log = logging.getLogger(__name__)\n",
    "    \n",
    "    if map_indexes is not None:\n",
    "        for ith, edg in enumerate(edges):\n",
    "            edges[ith] = (map_indexes[edg[0]], map_indexes[edg[1]])\n",
    "    \n",
    "    for i, j in edges:\n",
    "        log.debug(f\"updating {i}, {j}\")\n",
    "        adjacency_mat[i, j] = 1\n",
    "        \n",
    "    return adjacency_mat\n",
    "        \n",
    "def symmeterize_edges(edges: list):\n",
    "    \"\"\"\n",
    "    Function to make a symmetric set from an asymmetric set of edges\n",
    "    :param edges: list - list of edges\n",
    "    :return list - symmetric edges\n",
    "    \"\"\"\n",
    "    \n",
    "    log = logging.getLogger(__name__)\n",
    "    \n",
    "    new_edges = []\n",
    "    for e in edges:\n",
    "        log.debug(f\"updating {e[1]}, {e[0]}\")\n",
    "        new_edges.append((e[0], e[1]))\n",
    "        new_edges.append((e[1], e[0]))\n",
    "        \n",
    "    new_edges = sorted(list(set(new_edges)))\n",
    "    \n",
    "    return new_edges\n",
    "\n",
    "def adjacency_matrix(nodes: list, edges: list, symmetric: bool = None, self_connection: bool = False):\n",
    "    \"\"\"\n",
    "    Function to build an adjacency matrix from iterables of nodes and edges.\n",
    "    :param nodes: iterable - iterable of nodes these will be sorted \n",
    "                             and indexed based on the sorted iterable\n",
    "    :params edges: iterable - iterable of paris of nodes to defined edges these \n",
    "                              will be sorted and indexed based on the sorted iterable\n",
    "    :params symmetric: bool - (optional) None has no effect, True nodes have been input as \n",
    "                              directed without symmetric actions but the adjacency \n",
    "                              martix needs to be symmeterized, False use a \n",
    "                              unsymmetrerized adjacency\n",
    "    :params self_connection: bool - (optional) False nodes are not self connected unless explicitly given \n",
    "                                     True make all nodes self connected\n",
    "    :return matrix: np.array - adjacency matrix \n",
    "    \"\"\"\n",
    "    \n",
    "    log = logging.getLogger(__name__)\n",
    "    \n",
    "    n_nodes = len(nodes)\n",
    "    adjacency_mat = np.zeros((n_nodes, n_nodes))\n",
    "    \n",
    "    log.debug(adjacency_mat)\n",
    "    \n",
    "    node_idxs = {n: ith for ith, n in enumerate(sorted(nodes))}\n",
    "    \n",
    "    if symmetric is True:\n",
    "        edges = symmeterize_edges(edges)\n",
    "    edge_idxs = {e: ith for ith, e in enumerate(edges)}        \n",
    "    \n",
    "    adjacency_mat = make_adjacency_matrix(adjacency_mat, edges, map_indexes=node_idxs)\n",
    "    \n",
    "    if self_connection is True:\n",
    "        adjacency_mat = adjacency_mat + np.eye(n_nodes, n_nodes)\n",
    "    \n",
    "    log.info(adjacency_mat)\n",
    "    \n",
    "    return adjacency_mat\n",
    "    \n",
    "def electronegativity(element_label, return_dict=False, nan_swap=np.nan):\n",
    "    \"\"\"\n",
    "    Pauling electronegativity from Inorganic Chemistry Principles of Structure and Reactivity second Ed. James E. Huheey\n",
    "    pp162:164 Table 4.8 Electronegativities of the elements. Oxidation states are inculded for\n",
    "    some elements in (roman numerals) such as Fe(III)\n",
    "    :param element_label: str - element label as as string\n",
    "    :param return_dict: bool - return the electronegativity dictionary rather than a value\n",
    "    :param nan_sub: numeric - a numeric value to subsitute np.nan with. np.nan signifies the electronegativity \n",
    "                              is uknown or unmeasurable\n",
    "    :return: float or dictionary\n",
    "    >>> atomic_electronegativity(\"H\")\n",
    "    2.2\n",
    "    \"\"\"\n",
    "\n",
    "    log = logging.getLogger(__name__)\n",
    "\n",
    "    electneg = {}\n",
    "    electneg[\"H\"] = 2.2\n",
    "    electneg[\"He\"] = np.nan\n",
    "    electneg[\"Li\"] = 0.98\n",
    "    electneg[\"Be\"] = 1.57\n",
    "    electneg[\"B\"] = 2.04\n",
    "    electneg[\"C\"] = 2.55\n",
    "    electneg[\"N\"] = 3.04\n",
    "    electneg[\"O\"] = 3.44\n",
    "    electneg[\"F\"] = 3.98\n",
    "    electneg[\"Ne\"] = np.nan\n",
    "    electneg[\"Na\"] = 0.93\n",
    "    electneg[\"Mg\"] = 1.31\n",
    "    electneg[\"Al\"] = 1.61\n",
    "    electneg[\"Si\"] = 1.9\n",
    "    electneg[\"P\"] = 2.19\n",
    "    electneg[\"S\"] = 2.58\n",
    "    electneg[\"Cl\"] = 3.16\n",
    "    electneg[\"Ar\"] = np.nan\n",
    "    electneg[\"K\"] = 0.82\n",
    "    electneg[\"Ca\"] = 1\n",
    "    electneg[\"Sc\"] = 1.36\n",
    "    electneg[\"Ti\"] = 1.54\n",
    "    electneg[\"Ti(II)\"] = 1.54\n",
    "    electneg[\"V\"] = 1.63\n",
    "    electneg[\"V(II)\"] = 1.563\n",
    "    electneg[\"Cr\"] = 1.66\n",
    "    electneg[\"Cr(II)\"] = 1.66\n",
    "    electneg[\"Mn\"] = 1.55\n",
    "    electneg[\"Mn(II)\"] = 1.55\n",
    "    electneg[\"Fe\"] = 1.83\n",
    "    electneg[\"Fe(II)\"] = 1.83\n",
    "    electneg[\"Fe(III)\"] = 1.96\n",
    "    electneg[\"Co\"] = 1.88\n",
    "    electneg[\"Co(II)\"] = 1.88\n",
    "    electneg[\"Ni\"] = 1.91\n",
    "    electneg[\"Ni(II)\"] = 1.91\n",
    "    electneg[\"Cu\"] = 1.9\n",
    "    electneg[\"Cu(I)\"] = 1.9\n",
    "    electneg[\"Cu(II)\"] = 2\n",
    "    electneg[\"Zn\"] = 1.65\n",
    "    electneg[\"Zn(II)\"] = 1.65\n",
    "    electneg[\"Ga\"] = 1.81\n",
    "    electneg[\"Ga(III)\"] = 1.81\n",
    "    electneg[\"Ge\"] = 2.01\n",
    "    electneg[\"Ge(IV)\"] = 2.01\n",
    "    electneg[\"As\"] = 2.18\n",
    "    electneg[\"As(III)\"] = 2.18\n",
    "    electneg[\"Se\"] = 2.55\n",
    "    electneg[\"Br\"] = 2.96\n",
    "    electneg[\"Kr\"] = 2.9\n",
    "    electneg[\"Rb\"] = 0.82\n",
    "    electneg[\"Sr\"] = 0.95\n",
    "    electneg[\"Y\"] = 1.22\n",
    "    electneg[\"Zr\"] = 1.33\n",
    "    electneg[\"Zr(II)\"] = 1.33\n",
    "    electneg[\"Nb\"] = 1.6\n",
    "    electneg[\"Mo\"] = 2.16\n",
    "    electneg[\"Mo(II)\"] = 2.16\n",
    "    electneg[\"Mo(III)\"] = 2.19\n",
    "    electneg[\"Mo(IV)\"] = 2.24\n",
    "    electneg[\"Mo(V)\"] = 2.27\n",
    "    electneg[\"Mo(VI)\"] = 2.35\n",
    "    electneg[\"Tc\"] = 1.9\n",
    "    electneg[\"Ru\"] = 2.2\n",
    "    electneg[\"Rh\"] = 2.28\n",
    "    electneg[\"Pd\"] = 2.2\n",
    "    electneg[\"Ag\"] = 1.93\n",
    "    electneg[\"Cd\"] = 1.69\n",
    "    electneg[\"In\"] = 1.78\n",
    "    electneg[\"Sn\"] = 1.96\n",
    "    electneg[\"Sn(II)\"] = 1.8\n",
    "    electneg[\"Sn(IV)\"] = 1.96\n",
    "    electneg[\"Sb\"] = 2.05\n",
    "    electneg[\"Te\"] = 2.1\n",
    "    electneg[\"I\"] = 2.66\n",
    "    electneg[\"Xe\"] = 2.6\n",
    "    electneg[\"Cs\"] = 0.79\n",
    "    electneg[\"Ba\"] = 0.89\n",
    "    electneg[\"La\"] = 1.1\n",
    "    electneg[\"Ce\"] = 1.12\n",
    "    electneg[\"Pr\"] = 1.13\n",
    "    electneg[\"Nd\"] = 1.14\n",
    "    electneg[\"Pm\"] = np.nan\n",
    "    electneg[\"Sm\"] = 1.17\n",
    "    electneg[\"Eu\"] = np.nan\n",
    "    electneg[\"Gd\"] = 1.2\n",
    "    electneg[\"Tb\"] = np.nan\n",
    "    electneg[\"Dy\"] = 1.22\n",
    "    electneg[\"Ho\"] = 1.23\n",
    "    electneg[\"Er\"] = 1.24\n",
    "    electneg[\"Tm\"] = 1.25\n",
    "    electneg[\"Yb\"] = np.nan\n",
    "    electneg[\"Lu\"] = 1.27\n",
    "    electneg[\"Hf\"] = 1.3\n",
    "    electneg[\"Ta\"] = 1.5\n",
    "    electneg[\"W\"] = 2.36\n",
    "    electneg[\"Re\"] = 1.9\n",
    "    electneg[\"Os\"] = 2.2\n",
    "    electneg[\"Ir\"] = 2.2\n",
    "    electneg[\"Pt\"] = 2.28\n",
    "    electneg[\"Au\"] = 2.54\n",
    "    electneg[\"Hg\"] = 2\n",
    "    electneg[\"Tl\"] = 1.62\n",
    "    electneg[\"Tl(I)\"] = 1.62\n",
    "    electneg[\"Tl(III)\"] = 2.04\n",
    "    electneg[\"Pb\"] = 2.33\n",
    "    electneg[\"Pb(II)\"] = 1.87\n",
    "    electneg[\"Pb(IV)\"] = 2.33\n",
    "    electneg[\"Bi\"] = 2.02\n",
    "    electneg[\"Po\"] = 2\n",
    "    electneg[\"At\"] = 2.2\n",
    "    electneg[\"Rn\"] = np.nan\n",
    "    electneg[\"Fr\"] = 0.7\n",
    "    electneg[\"Ra\"] = 0.9\n",
    "    electneg[\"Ac\"] = 1.1\n",
    "    electneg[\"Th\"] = 1.3\n",
    "    electneg[\"Pa\"] = 1.5\n",
    "    electneg[\"U\"] = 1.7\n",
    "    electneg[\"Np\"] = 1.3\n",
    "    electneg[\"Pu\"] = 1.3\n",
    "    electneg[\"Am\"] = 1.3\n",
    "    electneg[\"Cm\"] = 1.3\n",
    "    electneg[\"Bk\"] = 1.3\n",
    "    electneg[\"Cf\"] = 1.3\n",
    "    electneg[\"Es\"] = 1.3\n",
    "    electneg[\"Fm\"] = 1.3\n",
    "    electneg[\"Md\"] = 1.3\n",
    "    electneg[\"No\"] = 1.3\n",
    "    electneg[\"Lr\"] = np.nan\n",
    "    electneg[\"Rf\"] = np.nan\n",
    "    electneg[\"Db\"] = np.nan\n",
    "    electneg[\"Sg\"] = np.nan\n",
    "    electneg[\"Bh\"] = np.nan\n",
    "    electneg[\"Hs\"] = np.nan\n",
    "    electneg[\"Mt\"] = np.nan\n",
    "    electneg[\"Ds\"] = np.nan\n",
    "    electneg[\"Rg\"] = np.nan\n",
    "    electneg[\"Cn\"] = np.nan\n",
    "    electneg[\"Nh\"] = np.nan\n",
    "    electneg[\"Fl\"] = np.nan\n",
    "    electneg[\"Mc\"] = np.nan\n",
    "    electneg[\"Lv\"] = np.nan\n",
    "    electneg[\"Ts\"] = np.nan\n",
    "    electneg[\"Og\"] = np.nan\n",
    "\n",
    "    electneg = {k.lower(): v for k, v in electneg.items()}\n",
    "\n",
    "    if not np.isnan(nan_swap):\n",
    "        electneg = {(k if not np.isnan(v) else k) : (v if not np.isnan(v) else nan_swap) for k, v in electneg.items()}\n",
    "\n",
    "    if return_dict is True:\n",
    "        return electneg\n",
    "    elif element_label.lower() in electneg.keys():\n",
    "        return electneg[element_label.lower()]\n",
    "    else:\n",
    "        log.error(\"Error no electronegativity for element label {}\".format(element_label))\n",
    "        raise RuntimeError\n",
    "\n",
    "def get_atomic_number(atom):\n",
    "    \"\"\"\n",
    "    \"\"\"\n",
    "    \n",
    "    return atom.GetAtomicNum()\n",
    "\n",
    "def get_electronegativity(atom):\n",
    "    \"\"\"\n",
    "    \"\"\"\n",
    "    \n",
    "    return electronegativity(atom.GetSymbol())\n",
    "\n",
    "def bond_type_encoder(bondtype: str = None, return_dict: bool = False):\n",
    "    \"\"\"\n",
    "    Return a unique integer encoding for all bond types RDKit can recognize\n",
    "    :param bondtype: str - string defining the bond type from RDkit (bond.GetBondType())\n",
    "    :return int\n",
    "    \"\"\"\n",
    "    encoder = {}\n",
    "    encoder[None] = 0\n",
    "    encoder[\"SINGLE\"] = 1\n",
    "    encoder[\"DOUBLE\"] = 2\n",
    "    encoder[\"TRIPLE\"] = 3\n",
    "    encoder[\"QUADRUPLE\"] = 4\n",
    "    encoder[\"QUINTUPLE\"] = 5\n",
    "    encoder[\"HEXTUPLE\"] = 6\n",
    "    encoder[\"ONEANDAHALF\"] = 7\n",
    "    encoder[\"TWOANDAHALF\"] = 8\n",
    "    encoder[\"THREEANDAHALF\"] = 9\n",
    "    encoder[\"FOURANDAHALF\"] = 10\n",
    "    encoder[\"FIVEANDAHALF\"] = 11\n",
    "    encoder[\"AROMATIC\"] = 12\n",
    "    encoder[\"IONIC\"] = 13\n",
    "    encoder[\"HYDROGEN\"] = 14\n",
    "    encoder[\"THREECENTER\"] = 15\n",
    "    encoder[\"DATIVEONE\"] = 16\n",
    "    encoder[\"DATIVE\"] = 17\n",
    "    encoder[\"DATIVEL\"] = 18\n",
    "    encoder[\"DATIVER\"] = 19\n",
    "    encoder[\"OTHER\"] = 20\n",
    "    encoder[\"ZERO\"] = 21\n",
    "    encoder[\"UNSPECIFIED\"] = 22\n",
    "    \n",
    "            \n",
    "    if return_dict is False:\n",
    "        return encoder[bondtype.upper()]\n",
    "    elif return_dict is True:\n",
    "        return encoder\n",
    "\n",
    "def get_bond_type(bond):\n",
    "    \"\"\"\n",
    "    \"\"\"\n",
    "    \n",
    "    return bond_type_encoder(str(bond.GetBondType()))\n",
    "\n",
    "\n",
    "class NodeFeatures(object):\n",
    "    \"\"\"\n",
    "    Class to store and generate node features\n",
    "    \"\"\"\n",
    "    \n",
    "    def __init__(self, add_feature_functions: list = [get_atomic_number], use_default_feature: bool = True):\n",
    "        \"\"\"\n",
    "        Initialize the class here\n",
    "        \"\"\"\n",
    "        \n",
    "        self.feature_functions = add_feature_functions\n",
    "        \n",
    "    def add_feature_function(self, feature_function):\n",
    "        \"\"\"\n",
    "        Function to add a feature function to the class \n",
    "        the feature function should take only an RDKit \n",
    "        atom as its arguments\n",
    "        \"\"\"\n",
    "        \n",
    "        self.feature_functions.append(feature_function)\n",
    "        self.feature_functions = self.feature_functions\n",
    "        \n",
    "    def get_feture_functions(self):\n",
    "        \"\"\"\n",
    "        Function to return the current set of feature functions\n",
    "        \"\"\"\n",
    "        \n",
    "        return self.feature_functions\n",
    "        \n",
    "    def calculate_features(self, atom):\n",
    "        \"\"\"\n",
    "        Function to calculate the features\n",
    "        \"\"\"\n",
    "        \n",
    "        output = []\n",
    "        \n",
    "        for feat in self.feature_functions:\n",
    "            output.append(feat(atom))\n",
    "            \n",
    "        return output\n",
    "    \n",
    "    def get_feature_tensor(self, mol: rdkit.Chem.rdchem.Mol):\n",
    "        \"\"\"\n",
    "        Function to take a molecules are return the node part of the graph as a tensor\n",
    "        \"\"\"\n",
    "        \n",
    "        feature_order = [str(f).split()[1] for f in self.get_feture_functions()]\n",
    "        node_tensor = np.zeros((mol.GetNumAtoms(), len(self.feature_functions)))\n",
    "        \n",
    "        for atom in mol.GetAtoms():\n",
    "            v = self.calculate_features(atom)\n",
    "            for ith in range(len(self.feature_functions)):\n",
    "                node_tensor[atom.GetIdx()][ith] = v[ith]\n",
    "        \n",
    "        return node_tensor, feature_order\n",
    "        \n",
    "        \n",
    "class EdgeFeatures(object):\n",
    "    \"\"\"\n",
    "    Class to store and generate edge features\n",
    "    \"\"\"\n",
    "    \n",
    "    def __init__(self, add_feature_functions: list = [get_bond_type], use_default_feature: bool = True):\n",
    "        \"\"\"\n",
    "        Initialize the class here\n",
    "        \"\"\"\n",
    "        \n",
    "        self.feature_functions = add_feature_functions\n",
    "        \n",
    "    def add_feature_function(self, feature_function):\n",
    "        \"\"\"\n",
    "        Function to add a feature function to the class \n",
    "        the feature function should take only an RDKit \n",
    "        atom as its arguments\n",
    "        \"\"\"\n",
    "        \n",
    "        self.feature_functions.append(feature_function)\n",
    "        self.feature_functions = self.feature_functions\n",
    "        \n",
    "    def get_feture_functions(self):\n",
    "        \"\"\"\n",
    "        Function to return the current set of feature functions\n",
    "        \"\"\"\n",
    "        \n",
    "        return self.feature_functions\n",
    "        \n",
    "    def calculate_features(self, bond):\n",
    "        \"\"\"\n",
    "        Function to calculate the features\n",
    "        \"\"\"\n",
    "        \n",
    "        output = []\n",
    "        \n",
    "        for feat in self.feature_functions:\n",
    "            output.append(feat(bond))\n",
    "            \n",
    "        return output\n",
    "    \n",
    "    def get_adjacency_matrix(self, mol: rdkit.Chem.rdchem.Mol, use_bond_order=False, self_connection=False):\n",
    "        \"\"\"\n",
    "        Function to get a molecule adjacency matrix\n",
    "        \"\"\"\n",
    "        \n",
    "        mat = GetAdjacencyMatrix(mol, useBO=use_bond_order)\n",
    "        \n",
    "        if self_connection is True:\n",
    "            mat = mat + np.eye(mol.GetNumAtoms(), mol.GetNumAtoms())\n",
    "            \n",
    "        return mat\n",
    "        \n",
    "    \n",
    "    def get_feature_tensor(self, mol: rdkit.Chem.rdchem.Mol, symmetric=True, verbose=False):\n",
    "        \"\"\"\n",
    "        Function to take a molecule then return the edge part of the graph as a tensor\n",
    "        \"\"\"\n",
    "        \n",
    "        feature_order = [str(f).split()[1] for f in self.get_feture_functions()]\n",
    "        edge_tensor = np.zeros((mol.GetNumAtoms(), mol.GetNumAtoms(), len(self.feature_functions)))\n",
    "        \n",
    "        if symmetric is True:\n",
    "            for bond in mol.GetBonds():\n",
    "                x = min(bond.GetBeginAtomIdx(), bond.GetEndAtomIdx())\n",
    "                y = max(bond.GetBeginAtomIdx(), bond.GetEndAtomIdx())\n",
    "                v = self.calculate_features(bond)\n",
    "                for ith in range(len(self.feature_functions)):\n",
    "                    edge_tensor[x, y, ith] = v[ith]\n",
    "                    edge_tensor[y, x, ith] = v[ith]\n",
    "                    if verbose is True:\n",
    "                        log.info(\"edge_tensor[{0}, {1}, {2}] = {3}\\n\"\n",
    "                              \"edge_tensor[{1}, {0}, {2}] = {3}\".format(x, y ,ith, v[ith]))\n",
    "        elif symmetric is False:\n",
    "            for bond in mol.GetBonds():\n",
    "                x = min(bond.GetBeginAtomIdx(), bond.GetEndAtomIdx())\n",
    "                y = max(bond.GetBeginAtomIdx(), bond.GetEndAtomIdx())\n",
    "                v = self.calculate_features(bond)\n",
    "                for ith in range(len(self.feature_functions)):\n",
    "                    edge_tensor[x, y, ith] = v[ith]\n",
    "                    if verbose is True:\n",
    "                        log.info(\"edge_tensor[{0}, {1}, {2}] = {3}\\n\"\n",
    "                        \"edge_tensor[{1}, {0}, {2}] = {4}\".format(x, y ,ith, v[ith], edge_tensor[y, x, ith]))\n",
    "        else:\n",
    "            log.warning(\"WARNING - symmetric must be set to 1 or 0\")\n",
    "            return None, None\n",
    "        \n",
    "        return edge_tensor, feature_order"
   ]
  },
  {
   "cell_type": "code",
   "execution_count": 32,
   "id": "591dc0eb-d02c-4201-8104-f596265b59c6",
   "metadata": {},
   "outputs": [
    {
     "name": "stderr",
     "output_type": "stream",
     "text": [
      "Training network for 6 formulants over 2734 examples\n"
     ]
    }
   ],
   "source": [
    "formulation_file = \"test_combdata_082324.csv\"\n",
    "data = pd.read_csv(formulation_file)\n",
    "# data = pd.read_excel(formulation_file,skiprows = [1],engine='openpyxl')\n",
    "data.columns = [ent.strip() for ent in data.columns]\n",
    "\n",
    "property_columns = [\"log(cond) (uS/cm)\"]\n",
    "max_atomic_number_to_represent = 118\n",
    "n_node_features = 100\n",
    "n_node_features = int(n_node_features)\n",
    "\n",
    "formulations_smiles_columns = [\"smiles1\", \"smiles2\", \"smiles3\", \"smiles4\",\"smiles5\",\"smiles6\"]\n",
    "assert all(ent in data.columns for ent in formulations_smiles_columns), \"ERROR - formulation smiles column header not found in data\"\n",
    "\n",
    "formulations_concer_columns = [\"conc1\", \"conc2\", \"conc3\", \"conc4\",\"conc5\",\"conc6\"]\n",
    "assert all(ent in data.columns for ent in formulations_concer_columns), \"ERROR - formulation concerntration column header not found in data\"\n",
    "\n",
    "cathode_loading_columns = [\"temperature ( C )\"]\n",
    "\n",
    "n_formaulatants = len(formulations_smiles_columns)\n",
    "n_conc = len(formulations_concer_columns)\n",
    "assert n_formaulatants == n_conc, \"ERROR - the number of molecules in the formulation and the number of concerntration do not match\"\n",
    "\n",
    "formulation_indx = [ith for ith in range(len(data.index))]\n",
    "\n",
    "log.info(\"Training network for {} formulants over {} examples\".format(n_formaulatants, len(formulation_indx)))"
   ]
  },
  {
   "cell_type": "code",
   "execution_count": 18,
   "id": "8dc424dc-7589-4c45-9e70-9cc721ba4ad8",
   "metadata": {},
   "outputs": [],
   "source": [
    "def bond_type_encoder(bondtype: str = None, return_dict: bool = False):\n",
    "    \"\"\"\n",
    "    Return a unique integer encoding for all bond types RDKit can recognize\n",
    "    :param bondtype: str - string defining the bond type from RDkit (bond.GetBondType())\n",
    "    :return int\n",
    "    \"\"\"\n",
    "    encoder = {}\n",
    "    encoder[None] = 0\n",
    "    encoder[\"SINGLE\"] = 1\n",
    "    encoder[\"DOUBLE\"] = 2\n",
    "    encoder[\"TRIPLE\"] = 3\n",
    "    encoder[\"QUADRUPLE\"] = 4\n",
    "    encoder[\"QUINTUPLE\"] = 5\n",
    "    encoder[\"HEXTUPLE\"] = 6\n",
    "    encoder[\"ONEANDAHALF\"] = 7\n",
    "    encoder[\"TWOANDAHALF\"] = 8\n",
    "    encoder[\"THREEANDAHALF\"] = 9\n",
    "    encoder[\"FOURANDAHALF\"] = 10\n",
    "    encoder[\"FIVEANDAHALF\"] = 11\n",
    "    encoder[\"AROMATIC\"] = 12\n",
    "    encoder[\"IONIC\"] = 13\n",
    "    encoder[\"HYDROGEN\"] = 14\n",
    "    encoder[\"THREECENTER\"] = 15\n",
    "    encoder[\"DATIVEONE\"] = 16\n",
    "    encoder[\"DATIVE\"] = 17\n",
    "    encoder[\"DATIVEL\"] = 18\n",
    "    encoder[\"DATIVER\"] = 19\n",
    "    encoder[\"OTHER\"] = 20\n",
    "    encoder[\"ZERO\"] = 21\n",
    "    encoder[\"UNSPECIFIED\"] = 22\n",
    "    \n",
    "            \n",
    "    if return_dict is False:\n",
    "        return encoder[bondtype.upper()]\n",
    "    elif return_dict is True:\n",
    "        return encoder\n",
    "\n",
    "def get_adjacency_matrix(mol: rdkit.Chem.rdchem.Mol, use_bond_order=False, self_connection=False):\n",
    "    \"\"\"\n",
    "    Function to get a molecule adjacency matrix\n",
    "    \"\"\"\n",
    "\n",
    "    mat = GetAdjacencyMatrix(mol, useBO=use_bond_order)\n",
    "\n",
    "    if self_connection is True:\n",
    "        mat = mat + np.eye(mol.GetNumAtoms(), mol.GetNumAtoms())\n",
    "\n",
    "    return mat\n",
    "    \n",
    "def smiles_to_graph_input(data, smiles_cols, conc_cols, prop_cols, n_formaulatants, loading, n_node_features= 100, max_atomic_number_to_represent=118):\n",
    "    \"\"\"\n",
    "    Function to output N graphs and N properties for a given input formulation.\n",
    "    The formulation data should be in a csv file (or equivalent) read by pandas.\n",
    "    The read in data is given to the data variable. The column headers for the smiles, concerntrations\n",
    "    and properties are given reprectively to smiles_cols, conc_cols, prop_cols as lists. The number\n",
    "    of molecules in a formaulation needs to be consistent (for now) n_formaulatants is a integer tah tdefine this\n",
    "    :param data: pandas.Series - a row from a read file as a dataframe of formulations to run over\n",
    "    :param smiles_cols: list - list of columns which contain the smiles strings for each component of the formulation\n",
    "    :param conc_cols: list - list of columns which contain the concerntration floats for each component of the formulation\n",
    "    :param prop_cols: list - list of columns which contain the properties to predict for each formulation\n",
    "    :param n_formaulatants: int - number of molecule components in each formulation needs to be the same for all\n",
    "    :param max_atomic_number_to_represent: int - the highest atomic number to encode for a node\n",
    "    :return tuple nodesX (0 -> n_formaulatants), adjacency matrixX (0 -> n_formaulatants), concerntrations\n",
    "    \"\"\"\n",
    "    # Get the concerntrations from the series and set them to be a numpy array \n",
    "    wt = data[conc_cols].astype(float).to_numpy()\n",
    "    cath = data[loading].astype(float).to_numpy()\n",
    "    wt = wt/100\n",
    "    # Get the smiles as a numpy array\n",
    "    smiles = np.array([ent.strip() for ent in data[smiles_cols].astype(str)])\n",
    "    \n",
    "    graphs = [] # Note the order is important nodes0, adjacency matrix0, nodes1, adjacencey matrix1 .....\n",
    "    \n",
    "    # Dictionary to encode all RDKit bond types\n",
    "    bond_encoder = bond_type_encoder(return_dict=True)\n",
    "    \n",
    "    # Make the graphs\n",
    "    for ith, smile in enumerate(smiles):\n",
    "        mol = Chem.MolFromSmiles(smile, sanitize=False)\n",
    "        mol.UpdatePropertyCache(strict=False)\n",
    "        mol = Chem.AddHs(mol)\n",
    "         \n",
    "    \n",
    "        \n",
    "        n_atoms = mol.GetNumAtoms()\n",
    "        \n",
    "        # Assume max elements to consider is 118 make a blank numpy array to encode which element are present in the molecule\n",
    "        node = np.zeros((n_atoms, n_node_features))\n",
    "        for atom in mol.GetAtoms():\n",
    "            node[atom.GetIdx(), atom.GetAtomicNum()-1] = electronegativity(atom.GetSymbol(), nan_swap=0.0)\n",
    "            \n",
    "        graphs.append(node)\n",
    "        \n",
    "        # Get the adjacency matrix\n",
    "        adjacency_matrix = get_adjacency_matrix(mol, use_bond_order=True, self_connection=True)\n",
    "        \n",
    "        graphs.append(adjacency_matrix)\n",
    "        \n",
    "    \n",
    "    node0, adj0, node1, adj1, node2, adj2, node3, adj3, node4, adj4, node5, adj5 = graphs\n",
    "    return node0, adj0, node1, adj1, node2, adj2, node3, adj3, node4, adj4, node5, adj5, wt, cath\n"
   ]
  },
  {
   "cell_type": "code",
   "execution_count": 19,
   "id": "c240d58e",
   "metadata": {
    "jupyter": {
     "source_hidden": true
    }
   },
   "outputs": [],
   "source": [
    "class GCNLayer(tf.keras.layers.Layer):\n",
    "    \"\"\"Implementation of GCN as layer\"\"\"\n",
    "\n",
    "    def __init__(self, activation=None, **kwargs):\n",
    "        # constructor, which just calls super constructor\n",
    "        # and turns requested activation into a callable function\n",
    "        super(GCNLayer, self).__init__(**kwargs)\n",
    "        self.activation = tf.keras.activations.get(activation)\n",
    "\n",
    "    def build(self, input_shape):\n",
    "        # create trainable weights\n",
    "        node_shape, adj_shape = input_shape\n",
    "        self.w = self.add_weight(shape=(node_shape[2], node_shape[2]), name=\"w\")\n",
    "\n",
    "    def call(self, inputs):\n",
    "        # split input into nodes, adj\n",
    "        nodes, adj = inputs\n",
    "        # compute degree\n",
    "        \n",
    "        degree = tf.reduce_sum(adj, axis=-1)\n",
    "        # GCN equation\n",
    "        # degree[b,i] * adj[b, i, j] * nodes[b, j, k] * weights[k, l]\n",
    "        new_nodes = tf.einsum(\"bi,bij,bjk,kl->bil\", 1 / degree, adj, nodes, self.w)\n",
    "        out = self.activation(new_nodes)\n",
    "        return out, adj\n",
    "\n",
    "class GRLayer(tf.keras.layers.Layer):\n",
    "    \"\"\"A GNN layer that computes average over all node features\"\"\"\n",
    "\n",
    "    def __init__(self, name=\"GRLayer\", **kwargs):\n",
    "        super(GRLayer, self).__init__(name=name, **kwargs)\n",
    "\n",
    "    def call(self, inputs):\n",
    "        nodes, adj = inputs\n",
    "        reduction = tf.reduce_mean(nodes, axis=1)\n",
    "        return reduction\n",
    "    \n",
    "def gcn_mols(n_node_features):\n",
    "    \n",
    "    ninput = tf.keras.Input((None,n_node_features,))\n",
    "    ainput = tf.keras.Input((None,None,))\n",
    "    \n",
    "    \n",
    "    layer1 = GCNLayer(\"tanh\")([ninput, ainput])\n",
    "    layer2 = GCNLayer(\"tanh\")(layer1)\n",
    "    layer3 = GCNLayer(\"tanh\")(layer2)\n",
    "    layer4 = GCNLayer(\"tanh\")(layer3)\n",
    "    # reduce to graph features\n",
    "    layer5 = GRLayer()(layer4)\n",
    "    # standard layers (the readout)\n",
    "     #output = tf.keras.layers.Dense(10)(layer5)\n",
    "    output = tf.keras.layers.Dense(1)(layer5)\n",
    "    \n",
    "    return keras.Model(inputs=(ninput, ainput), outputs=layer5)\n",
    "\n",
    "def gen_graphs_and_labels(data, formulations_smiles_columns, formulations_concer_columns, property_columns, n_formaulatants, cathode_loading_columns):\n",
    "    cols = formulations_smiles_columns + formulations_concer_columns + property_columns + cathode_loading_columns\n",
    "    for i in data.index:\n",
    "        graphs = smiles_to_graph_input(data.loc[i, cols], formulations_smiles_columns, formulations_concer_columns, property_columns, n_formaulatants, cathode_loading_columns)\n",
    "        label = data.loc[i, property_columns].astype(float).to_numpy()\n",
    "        yield graphs, label"
   ]
  },
  {
   "cell_type": "code",
   "execution_count": 20,
   "id": "f2bf7d49-c028-41f5-9000-4eced14626a5",
   "metadata": {},
   "outputs": [],
   "source": [
    "def gen_graphs_and_labels(data, formulations_smiles_columns, formulations_concer_columns, property_columns, n_formaulatants, cathode_loading_columns):\n",
    "    cols = formulations_smiles_columns + formulations_concer_columns + property_columns + cathode_loading_columns\n",
    "    for i in data.index:\n",
    "        graphs = smiles_to_graph_input(data.loc[i, cols], formulations_smiles_columns, formulations_concer_columns, property_columns, n_formaulatants, cathode_loading_columns)\n",
    "        label = data.loc[i, property_columns].astype(float).to_numpy()\n",
    "        yield graphs, label"
   ]
  },
  {
   "cell_type": "code",
   "execution_count": 21,
   "id": "8f3aab1c-75ea-43bf-901e-61176670c015",
   "metadata": {},
   "outputs": [
    {
     "name": "stderr",
     "output_type": "stream",
     "text": [
      "\n",
      "Output shapes\n",
      "[TensorSpec(shape=(None, 100), dtype=tf.float32, name=None), TensorSpec(shape=(None, None), dtype=tf.float32, name=None), TensorSpec(shape=(None, 100), dtype=tf.float32, name=None), TensorSpec(shape=(None, None), dtype=tf.float32, name=None), TensorSpec(shape=(None, 100), dtype=tf.float32, name=None), TensorSpec(shape=(None, None), dtype=tf.float32, name=None), TensorSpec(shape=(None, 100), dtype=tf.float32, name=None), TensorSpec(shape=(None, None), dtype=tf.float32, name=None), TensorSpec(shape=(None, 100), dtype=tf.float32, name=None), TensorSpec(shape=(None, None), dtype=tf.float32, name=None), TensorSpec(shape=(None, 100), dtype=tf.float32, name=None), TensorSpec(shape=(None, None), dtype=tf.float32, name=None), TensorSpec(shape=(6,), dtype=tf.float32, name=None), TensorSpec(shape=(1,), dtype=tf.float32, name=None)]\n"
     ]
    }
   ],
   "source": [
    "output_signature_list = []\n",
    "\n",
    "for i in range(n_formaulatants):\n",
    "    output_signature_list.append(tf.TensorSpec(shape=(None, n_node_features),  dtype=tf.float32))\n",
    "    output_signature_list.append(tf.TensorSpec(shape=(None, None),  dtype=tf.float32))\n",
    "    \n",
    "output_signature_list = output_signature_list +[tf.TensorSpec(shape=(n_formaulatants,), dtype=tf.float32)]+ [tf.TensorSpec(shape=(1,), dtype=tf.float32)] \n",
    "\n",
    "log.info(\"\\nOutput shapes\\n{}\".format(output_signature_list))"
   ]
  },
  {
   "cell_type": "code",
   "execution_count": 22,
   "id": "84d88404-1747-4ea5-b790-887d0d9b73ce",
   "metadata": {},
   "outputs": [
    {
     "name": "stderr",
     "output_type": "stream",
     "text": [
      "data set <_FlatMapDataset element_spec=((TensorSpec(shape=(None, 100), dtype=tf.float32, name=None), TensorSpec(shape=(None, None), dtype=tf.float32, name=None), TensorSpec(shape=(None, 100), dtype=tf.float32, name=None), TensorSpec(shape=(None, None), dtype=tf.float32, name=None), TensorSpec(shape=(None, 100), dtype=tf.float32, name=None), TensorSpec(shape=(None, None), dtype=tf.float32, name=None), TensorSpec(shape=(None, 100), dtype=tf.float32, name=None), TensorSpec(shape=(None, None), dtype=tf.float32, name=None), TensorSpec(shape=(None, 100), dtype=tf.float32, name=None), TensorSpec(shape=(None, None), dtype=tf.float32, name=None), TensorSpec(shape=(None, 100), dtype=tf.float32, name=None), TensorSpec(shape=(None, None), dtype=tf.float32, name=None), TensorSpec(shape=(6,), dtype=tf.float32, name=None), TensorSpec(shape=(1,), dtype=tf.float32, name=None)), TensorSpec(shape=(1,), dtype=tf.float32, name=None))>\n"
     ]
    }
   ],
   "source": [
    "dataset = tf.data.Dataset.from_generator(\n",
    "    lambda: gen_graphs_and_labels(data, formulations_smiles_columns, formulations_concer_columns, property_columns, n_formaulatants, cathode_loading_columns),\n",
    "    output_signature=(tuple(output_signature_list), (tf.TensorSpec(shape=(1,),  dtype=tf.float32))\n",
    "                 ),\n",
    ")\n",
    "                      \n",
    "\n",
    "log.info(f\"data set {dataset}\")"
   ]
  },
  {
   "cell_type": "code",
   "execution_count": 23,
   "id": "5167ce27",
   "metadata": {
    "scrolled": true
   },
   "outputs": [
    {
     "name": "stderr",
     "output_type": "stream",
     "text": [
      "N node features 100\n",
      "inputs [<KerasTensor: shape=(None, None, 100) dtype=float32 (created by layer 'input_27')>, <KerasTensor: shape=(None, None, None) dtype=float32 (created by layer 'input_28')>, <KerasTensor: shape=(None, None, 100) dtype=float32 (created by layer 'input_31')>, <KerasTensor: shape=(None, None, None) dtype=float32 (created by layer 'input_32')>, <KerasTensor: shape=(None, None, 100) dtype=float32 (created by layer 'input_35')>, <KerasTensor: shape=(None, None, None) dtype=float32 (created by layer 'input_36')>, <KerasTensor: shape=(None, None, 100) dtype=float32 (created by layer 'input_39')>, <KerasTensor: shape=(None, None, None) dtype=float32 (created by layer 'input_40')>, <KerasTensor: shape=(None, None, 100) dtype=float32 (created by layer 'input_43')>, <KerasTensor: shape=(None, None, None) dtype=float32 (created by layer 'input_44')>, <KerasTensor: shape=(None, None, 100) dtype=float32 (created by layer 'input_47')>, <KerasTensor: shape=(None, None, None) dtype=float32 (created by layer 'input_48')>, <KerasTensor: shape=(None, None, None) dtype=float32 (created by layer 'input_51')>, <KerasTensor: shape=(None, 1) dtype=float32 (created by layer 'input_52')>]\n",
      "\n"
     ]
    },
    {
     "name": "stdout",
     "output_type": "stream",
     "text": [
      "Model: \"model_13\"\n",
      "__________________________________________________________________________________________________\n",
      " Layer (type)                Output Shape                 Param #   Connected to                  \n",
      "==================================================================================================\n",
      " input_27 (InputLayer)       [(None, None, 100)]          0         []                            \n",
      "                                                                                                  \n",
      " input_28 (InputLayer)       [(None, None, None)]         0         []                            \n",
      "                                                                                                  \n",
      " input_51 (InputLayer)       [(None, None, None)]         0         []                            \n",
      "                                                                                                  \n",
      " input_31 (InputLayer)       [(None, None, 100)]          0         []                            \n",
      "                                                                                                  \n",
      " input_32 (InputLayer)       [(None, None, None)]         0         []                            \n",
      "                                                                                                  \n",
      " input_35 (InputLayer)       [(None, None, 100)]          0         []                            \n",
      "                                                                                                  \n",
      " input_36 (InputLayer)       [(None, None, None)]         0         []                            \n",
      "                                                                                                  \n",
      " input_39 (InputLayer)       [(None, None, 100)]          0         []                            \n",
      "                                                                                                  \n",
      " input_40 (InputLayer)       [(None, None, None)]         0         []                            \n",
      "                                                                                                  \n",
      " input_43 (InputLayer)       [(None, None, 100)]          0         []                            \n",
      "                                                                                                  \n",
      " input_44 (InputLayer)       [(None, None, None)]         0         []                            \n",
      "                                                                                                  \n",
      " input_47 (InputLayer)       [(None, None, 100)]          0         []                            \n",
      "                                                                                                  \n",
      " input_48 (InputLayer)       [(None, None, None)]         0         []                            \n",
      "                                                                                                  \n",
      " model_7 (Functional)        (None, 100)                  40000     ['input_27[0][0]',            \n",
      "                                                                     'input_28[0][0]']            \n",
      "                                                                                                  \n",
      " tf.__operators__.getitem_1  (None, None)                 0         ['input_51[0][0]']            \n",
      " 2 (SlicingOpLambda)                                                                              \n",
      "                                                                                                  \n",
      " model_8 (Functional)        (None, 100)                  40000     ['input_31[0][0]',            \n",
      "                                                                     'input_32[0][0]']            \n",
      "                                                                                                  \n",
      " tf.__operators__.getitem_1  (None, None)                 0         ['input_51[0][0]']            \n",
      " 4 (SlicingOpLambda)                                                                              \n",
      "                                                                                                  \n",
      " model_9 (Functional)        (None, 100)                  40000     ['input_35[0][0]',            \n",
      "                                                                     'input_36[0][0]']            \n",
      "                                                                                                  \n",
      " tf.__operators__.getitem_1  (None, None)                 0         ['input_51[0][0]']            \n",
      " 6 (SlicingOpLambda)                                                                              \n",
      "                                                                                                  \n",
      " model_10 (Functional)       (None, 100)                  40000     ['input_39[0][0]',            \n",
      "                                                                     'input_40[0][0]']            \n",
      "                                                                                                  \n",
      " tf.__operators__.getitem_1  (None, None)                 0         ['input_51[0][0]']            \n",
      " 8 (SlicingOpLambda)                                                                              \n",
      "                                                                                                  \n",
      " model_11 (Functional)       (None, 100)                  40000     ['input_43[0][0]',            \n",
      "                                                                     'input_44[0][0]']            \n",
      "                                                                                                  \n",
      " tf.__operators__.getitem_2  (None, None)                 0         ['input_51[0][0]']            \n",
      " 0 (SlicingOpLambda)                                                                              \n",
      "                                                                                                  \n",
      " model_12 (Functional)       (None, 100)                  40000     ['input_47[0][0]',            \n",
      "                                                                     'input_48[0][0]']            \n",
      "                                                                                                  \n",
      " tf.__operators__.getitem_2  (None, None)                 0         ['input_51[0][0]']            \n",
      " 2 (SlicingOpLambda)                                                                              \n",
      "                                                                                                  \n",
      " multiply_6 (Multiply)       (None, 100)                  0         ['model_7[0][0]',             \n",
      "                                                                     'tf.__operators__.getitem_12[\n",
      "                                                                    0][0]']                       \n",
      "                                                                                                  \n",
      " multiply_7 (Multiply)       (None, 100)                  0         ['model_8[0][0]',             \n",
      "                                                                     'tf.__operators__.getitem_14[\n",
      "                                                                    0][0]']                       \n",
      "                                                                                                  \n",
      " multiply_8 (Multiply)       (None, 100)                  0         ['model_9[0][0]',             \n",
      "                                                                     'tf.__operators__.getitem_16[\n",
      "                                                                    0][0]']                       \n",
      "                                                                                                  \n",
      " multiply_9 (Multiply)       (None, 100)                  0         ['model_10[0][0]',            \n",
      "                                                                     'tf.__operators__.getitem_18[\n",
      "                                                                    0][0]']                       \n",
      "                                                                                                  \n",
      " multiply_10 (Multiply)      (None, 100)                  0         ['model_11[0][0]',            \n",
      "                                                                     'tf.__operators__.getitem_20[\n",
      "                                                                    0][0]']                       \n",
      "                                                                                                  \n",
      " multiply_11 (Multiply)      (None, 100)                  0         ['model_12[0][0]',            \n",
      "                                                                     'tf.__operators__.getitem_22[\n",
      "                                                                    0][0]']                       \n",
      "                                                                                                  \n",
      " concatenate_2 (Concatenate  (None, 600)                  0         ['multiply_6[0][0]',          \n",
      " )                                                                   'multiply_7[0][0]',          \n",
      "                                                                     'multiply_8[0][0]',          \n",
      "                                                                     'multiply_9[0][0]',          \n",
      "                                                                     'multiply_10[0][0]',         \n",
      "                                                                     'multiply_11[0][0]']         \n",
      "                                                                                                  \n",
      " input_52 (InputLayer)       [(None, 1)]                  0         []                            \n",
      "                                                                                                  \n",
      " concatenate_3 (Concatenate  (None, 601)                  0         ['concatenate_2[0][0]',       \n",
      " )                                                                   'input_52[0][0]']            \n",
      "                                                                                                  \n",
      " dense_15 (Dense)            (None, 200)                  120400    ['concatenate_3[0][0]']       \n",
      "                                                                                                  \n",
      " dense_16 (Dense)            (None, 100)                  20100     ['dense_15[0][0]']            \n",
      "                                                                                                  \n",
      " dense_17 (Dense)            (None, 1)                    101       ['dense_16[0][0]']            \n",
      "                                                                                                  \n",
      "==================================================================================================\n",
      "Total params: 380601 (1.45 MB)\n",
      "Trainable params: 140601 (549.22 KB)\n",
      "Non-trainable params: 240000 (937.50 KB)\n",
      "__________________________________________________________________________________________________\n"
     ]
    }
   ],
   "source": [
    "formulation_inputs = {}\n",
    "model_molecule = {}\n",
    "log.info(f\"N node features {n_node_features}\")\n",
    "for i in range(n_formaulatants):\n",
    "    formulation_inputs[f\"node{i}\"] = tf.keras.Input((None, n_node_features,),)\n",
    "    \n",
    "    formulation_inputs[f\"adj{i}\"]= tf.keras.Input((None, None,),)\n",
    "    \n",
    "    model_molecule[f\"modelmolecule{i}\"] = gcn_mols(n_node_features)\n",
    "    model_molecule[f\"modelmolecule{i}\"].load_weights('./checkpointhlem/my_checkpoint')\n",
    "    model_molecule[f\"modelmolecule{i}\"].trainable = False\n",
    "    \n",
    "\n",
    "wt = tf.keras.Input((None, None),)\n",
    "cath = tf.keras.Input((1,),)\n",
    "\n",
    "log.debug(f\"\\nformultion inps\\n{formulation_inputs}\\n\")\n",
    "\n",
    "log.debug(f\"wt\\n{wt}\")\n",
    "log.debug(f\"wt\\n{cath}\")\n",
    "gcn_out = {}\n",
    "gcn_wt = {}\n",
    "for i in range(n_formaulatants):\n",
    "    #globals()['gcn_out%s'%i] = globals()['modelmolecule%s'%i]([globals()['node%s'%i], globals()['adj%s'%i]])\n",
    "    #globals()['gcn_wt%s'%i] = layers.Multiply()([globals()['gcn_out%s'%i], wt[:,i]])\n",
    "    \n",
    "    gcn_out[f\"gcn_out{i}\"] = model_molecule[f'modelmolecule{i}']([formulation_inputs[f'node{i}'], formulation_inputs[f'adj{i}']])\n",
    "    gcn_wt[f'gcn_wt{i}'] = layers.Multiply()([gcn_out[f'gcn_out{i}'], wt[:,i]])\n",
    "    \n",
    "    log.debug(f\"\\n{i} [gcn_out[f'gcn_out{i}'], wt[:,i]] = {[gcn_out[f'gcn_out{i}'], wt[:,i]]}\\n\")\n",
    "\n",
    "log.debug(f\"\\ngcn out {gcn_out[f'gcn_out0']}\\n\")\n",
    "log.debug(f\"\\ngcn wt {gcn_wt[f'gcn_wt0']}\\n\")\n",
    "    \n",
    "log.debug(\"\\nLayers to add\\n{}\\n\".format([v for _, v in gcn_wt.items()]))\n",
    "x1 = layers.concatenate([v for _, v in gcn_wt.items()])\n",
    "#x1 = layers.add([v for _, v in gcn_wt.items()])\n",
    "#x = layers.Dense(10, activation='relu')(x)\n",
    "\n",
    "#x2 = layers.Dense(1000, activation='relu')(x1)\n",
    "x3 = layers.concatenate([x1, cath])\n",
    "#x = layers.Dense(500, activation='relu')(x)\n",
    "x = layers.Dense(200, activation='sigmoid')(x3)\n",
    "x = layers.Dense(100, activation='sigmoid')(x)\n",
    "#x = layers.Dense(100, activation='relu')(x)\n",
    "performance = layers.Dense(1)(x)\n",
    "\n",
    "inps = []\n",
    "for ith in range(n_formaulatants):\n",
    "    inps.append(formulation_inputs[f\"node{ith}\"])\n",
    "    inps.append(formulation_inputs[f\"adj{ith}\"])\n",
    "\n",
    "inps = inps +[wt] +[cath]\n",
    "#tuple(inps)\n",
    "\n",
    "log.debug(f\"inps\\n{inps}\\n\")\n",
    "\n",
    "log.info(f\"inputs {inps}\\n\")\n",
    "\n",
    "electrolyte_model = keras.Model(inputs=inps, outputs=performance)\n",
    "#electrolyte_model = keras.Model(inputs=[node0,adj0,node1,adj1,node2,adj2,node3,adj3,wt], outputs=capacity)\n",
    "\n",
    "electrolyte_model.summary()"
   ]
  },
  {
   "cell_type": "code",
   "execution_count": 24,
   "id": "b38ae564-35f1-4040-b39d-3f63f2327934",
   "metadata": {},
   "outputs": [],
   "source": [
    "modelname = \"ckpt/IC_082324_1-400-0.0100\"\n",
    "electrolyte_model= tf.keras.models.load_model(modelname)\n",
    "# checkpoint_filepath = 'ckpt/TL_model_IC-800-0.0149.model.keras'\n",
    "# electrolyte_model.load_weights(checkpoint_filepath)\n"
   ]
  },
  {
   "cell_type": "code",
   "execution_count": 25,
   "id": "67417b84-78e6-4fc8-bb23-948698d9b9e7",
   "metadata": {},
   "outputs": [
    {
     "name": "stdout",
     "output_type": "stream",
     "text": [
      "10932/10932 [==============================] - 168s 15ms/step\n",
      "WARNING:tensorflow:Detecting that an object or model or tf.train.Checkpoint is being deleted with unrestored values. See the following logs for the specific values in question. To silence these warnings, use `status.expect_partial()`. See https://www.tensorflow.org/api_docs/python/tf/train/Checkpoint#restorefor details about the status object returned by the restore function.\n"
     ]
    },
    {
     "name": "stderr",
     "output_type": "stream",
     "text": [
      "Detecting that an object or model or tf.train.Checkpoint is being deleted with unrestored values. See the following logs for the specific values in question. To silence these warnings, use `status.expect_partial()`. See https://www.tensorflow.org/api_docs/python/tf/train/Checkpoint#restorefor details about the status object returned by the restore function.\n"
     ]
    },
    {
     "name": "stdout",
     "output_type": "stream",
     "text": [
      "WARNING:tensorflow:Value in checkpoint could not be found in the restored object: (root).layer_with_weights-4.kernel\n"
     ]
    },
    {
     "name": "stderr",
     "output_type": "stream",
     "text": [
      "Value in checkpoint could not be found in the restored object: (root).layer_with_weights-4.kernel\n"
     ]
    },
    {
     "name": "stdout",
     "output_type": "stream",
     "text": [
      "WARNING:tensorflow:Value in checkpoint could not be found in the restored object: (root).layer_with_weights-4.bias\n"
     ]
    },
    {
     "name": "stderr",
     "output_type": "stream",
     "text": [
      "Value in checkpoint could not be found in the restored object: (root).layer_with_weights-4.bias\n"
     ]
    },
    {
     "name": "stdout",
     "output_type": "stream",
     "text": [
      "WARNING:tensorflow:Value in checkpoint could not be found in the restored object: (root).optimizer.iter\n"
     ]
    },
    {
     "name": "stderr",
     "output_type": "stream",
     "text": [
      "Value in checkpoint could not be found in the restored object: (root).optimizer.iter\n"
     ]
    },
    {
     "name": "stdout",
     "output_type": "stream",
     "text": [
      "WARNING:tensorflow:Value in checkpoint could not be found in the restored object: (root).optimizer.beta_1\n"
     ]
    },
    {
     "name": "stderr",
     "output_type": "stream",
     "text": [
      "Value in checkpoint could not be found in the restored object: (root).optimizer.beta_1\n"
     ]
    },
    {
     "name": "stdout",
     "output_type": "stream",
     "text": [
      "WARNING:tensorflow:Value in checkpoint could not be found in the restored object: (root).optimizer.beta_2\n"
     ]
    },
    {
     "name": "stderr",
     "output_type": "stream",
     "text": [
      "Value in checkpoint could not be found in the restored object: (root).optimizer.beta_2\n"
     ]
    },
    {
     "name": "stdout",
     "output_type": "stream",
     "text": [
      "WARNING:tensorflow:Value in checkpoint could not be found in the restored object: (root).optimizer.decay\n"
     ]
    },
    {
     "name": "stderr",
     "output_type": "stream",
     "text": [
      "Value in checkpoint could not be found in the restored object: (root).optimizer.decay\n"
     ]
    },
    {
     "name": "stdout",
     "output_type": "stream",
     "text": [
      "WARNING:tensorflow:Value in checkpoint could not be found in the restored object: (root).optimizer.learning_rate\n"
     ]
    },
    {
     "name": "stderr",
     "output_type": "stream",
     "text": [
      "Value in checkpoint could not be found in the restored object: (root).optimizer.learning_rate\n"
     ]
    },
    {
     "name": "stdout",
     "output_type": "stream",
     "text": [
      "WARNING:tensorflow:Value in checkpoint could not be found in the restored object: (root).optimizer's state 'm' for (root).layer_with_weights-0.w\n"
     ]
    },
    {
     "name": "stderr",
     "output_type": "stream",
     "text": [
      "Value in checkpoint could not be found in the restored object: (root).optimizer's state 'm' for (root).layer_with_weights-0.w\n"
     ]
    },
    {
     "name": "stdout",
     "output_type": "stream",
     "text": [
      "WARNING:tensorflow:Value in checkpoint could not be found in the restored object: (root).optimizer's state 'm' for (root).layer_with_weights-1.w\n"
     ]
    },
    {
     "name": "stderr",
     "output_type": "stream",
     "text": [
      "Value in checkpoint could not be found in the restored object: (root).optimizer's state 'm' for (root).layer_with_weights-1.w\n"
     ]
    },
    {
     "name": "stdout",
     "output_type": "stream",
     "text": [
      "WARNING:tensorflow:Value in checkpoint could not be found in the restored object: (root).optimizer's state 'm' for (root).layer_with_weights-2.w\n"
     ]
    },
    {
     "name": "stderr",
     "output_type": "stream",
     "text": [
      "Value in checkpoint could not be found in the restored object: (root).optimizer's state 'm' for (root).layer_with_weights-2.w\n"
     ]
    },
    {
     "name": "stdout",
     "output_type": "stream",
     "text": [
      "WARNING:tensorflow:Value in checkpoint could not be found in the restored object: (root).optimizer's state 'm' for (root).layer_with_weights-3.w\n"
     ]
    },
    {
     "name": "stderr",
     "output_type": "stream",
     "text": [
      "Value in checkpoint could not be found in the restored object: (root).optimizer's state 'm' for (root).layer_with_weights-3.w\n"
     ]
    },
    {
     "name": "stdout",
     "output_type": "stream",
     "text": [
      "WARNING:tensorflow:Value in checkpoint could not be found in the restored object: (root).optimizer's state 'm' for (root).layer_with_weights-4.kernel\n"
     ]
    },
    {
     "name": "stderr",
     "output_type": "stream",
     "text": [
      "Value in checkpoint could not be found in the restored object: (root).optimizer's state 'm' for (root).layer_with_weights-4.kernel\n"
     ]
    },
    {
     "name": "stdout",
     "output_type": "stream",
     "text": [
      "WARNING:tensorflow:Value in checkpoint could not be found in the restored object: (root).optimizer's state 'm' for (root).layer_with_weights-4.bias\n"
     ]
    },
    {
     "name": "stderr",
     "output_type": "stream",
     "text": [
      "Value in checkpoint could not be found in the restored object: (root).optimizer's state 'm' for (root).layer_with_weights-4.bias\n"
     ]
    },
    {
     "name": "stdout",
     "output_type": "stream",
     "text": [
      "WARNING:tensorflow:Value in checkpoint could not be found in the restored object: (root).optimizer's state 'v' for (root).layer_with_weights-0.w\n"
     ]
    },
    {
     "name": "stderr",
     "output_type": "stream",
     "text": [
      "Value in checkpoint could not be found in the restored object: (root).optimizer's state 'v' for (root).layer_with_weights-0.w\n"
     ]
    },
    {
     "name": "stdout",
     "output_type": "stream",
     "text": [
      "WARNING:tensorflow:Value in checkpoint could not be found in the restored object: (root).optimizer's state 'v' for (root).layer_with_weights-1.w\n"
     ]
    },
    {
     "name": "stderr",
     "output_type": "stream",
     "text": [
      "Value in checkpoint could not be found in the restored object: (root).optimizer's state 'v' for (root).layer_with_weights-1.w\n"
     ]
    },
    {
     "name": "stdout",
     "output_type": "stream",
     "text": [
      "WARNING:tensorflow:Value in checkpoint could not be found in the restored object: (root).optimizer's state 'v' for (root).layer_with_weights-2.w\n"
     ]
    },
    {
     "name": "stderr",
     "output_type": "stream",
     "text": [
      "Value in checkpoint could not be found in the restored object: (root).optimizer's state 'v' for (root).layer_with_weights-2.w\n"
     ]
    },
    {
     "name": "stdout",
     "output_type": "stream",
     "text": [
      "WARNING:tensorflow:Value in checkpoint could not be found in the restored object: (root).optimizer's state 'v' for (root).layer_with_weights-3.w\n"
     ]
    },
    {
     "name": "stderr",
     "output_type": "stream",
     "text": [
      "Value in checkpoint could not be found in the restored object: (root).optimizer's state 'v' for (root).layer_with_weights-3.w\n"
     ]
    },
    {
     "name": "stdout",
     "output_type": "stream",
     "text": [
      "WARNING:tensorflow:Value in checkpoint could not be found in the restored object: (root).optimizer's state 'v' for (root).layer_with_weights-4.kernel\n"
     ]
    },
    {
     "name": "stderr",
     "output_type": "stream",
     "text": [
      "Value in checkpoint could not be found in the restored object: (root).optimizer's state 'v' for (root).layer_with_weights-4.kernel\n"
     ]
    },
    {
     "name": "stdout",
     "output_type": "stream",
     "text": [
      "WARNING:tensorflow:Value in checkpoint could not be found in the restored object: (root).optimizer's state 'v' for (root).layer_with_weights-4.bias\n"
     ]
    },
    {
     "name": "stderr",
     "output_type": "stream",
     "text": [
      "Value in checkpoint could not be found in the restored object: (root).optimizer's state 'v' for (root).layer_with_weights-4.bias\n"
     ]
    },
    {
     "name": "stdout",
     "output_type": "stream",
     "text": [
      "WARNING:tensorflow:Detecting that an object or model or tf.train.Checkpoint is being deleted with unrestored values. See the following logs for the specific values in question. To silence these warnings, use `status.expect_partial()`. See https://www.tensorflow.org/api_docs/python/tf/train/Checkpoint#restorefor details about the status object returned by the restore function.\n"
     ]
    },
    {
     "name": "stderr",
     "output_type": "stream",
     "text": [
      "Detecting that an object or model or tf.train.Checkpoint is being deleted with unrestored values. See the following logs for the specific values in question. To silence these warnings, use `status.expect_partial()`. See https://www.tensorflow.org/api_docs/python/tf/train/Checkpoint#restorefor details about the status object returned by the restore function.\n"
     ]
    },
    {
     "name": "stdout",
     "output_type": "stream",
     "text": [
      "WARNING:tensorflow:Value in checkpoint could not be found in the restored object: (root).layer_with_weights-4.kernel\n"
     ]
    },
    {
     "name": "stderr",
     "output_type": "stream",
     "text": [
      "Value in checkpoint could not be found in the restored object: (root).layer_with_weights-4.kernel\n"
     ]
    },
    {
     "name": "stdout",
     "output_type": "stream",
     "text": [
      "WARNING:tensorflow:Value in checkpoint could not be found in the restored object: (root).layer_with_weights-4.bias\n"
     ]
    },
    {
     "name": "stderr",
     "output_type": "stream",
     "text": [
      "Value in checkpoint could not be found in the restored object: (root).layer_with_weights-4.bias\n"
     ]
    },
    {
     "name": "stdout",
     "output_type": "stream",
     "text": [
      "WARNING:tensorflow:Value in checkpoint could not be found in the restored object: (root).optimizer.iter\n"
     ]
    },
    {
     "name": "stderr",
     "output_type": "stream",
     "text": [
      "Value in checkpoint could not be found in the restored object: (root).optimizer.iter\n"
     ]
    },
    {
     "name": "stdout",
     "output_type": "stream",
     "text": [
      "WARNING:tensorflow:Value in checkpoint could not be found in the restored object: (root).optimizer.beta_1\n"
     ]
    },
    {
     "name": "stderr",
     "output_type": "stream",
     "text": [
      "Value in checkpoint could not be found in the restored object: (root).optimizer.beta_1\n"
     ]
    },
    {
     "name": "stdout",
     "output_type": "stream",
     "text": [
      "WARNING:tensorflow:Value in checkpoint could not be found in the restored object: (root).optimizer.beta_2\n"
     ]
    },
    {
     "name": "stderr",
     "output_type": "stream",
     "text": [
      "Value in checkpoint could not be found in the restored object: (root).optimizer.beta_2\n"
     ]
    },
    {
     "name": "stdout",
     "output_type": "stream",
     "text": [
      "WARNING:tensorflow:Value in checkpoint could not be found in the restored object: (root).optimizer.decay\n"
     ]
    },
    {
     "name": "stderr",
     "output_type": "stream",
     "text": [
      "Value in checkpoint could not be found in the restored object: (root).optimizer.decay\n"
     ]
    },
    {
     "name": "stdout",
     "output_type": "stream",
     "text": [
      "WARNING:tensorflow:Value in checkpoint could not be found in the restored object: (root).optimizer.learning_rate\n"
     ]
    },
    {
     "name": "stderr",
     "output_type": "stream",
     "text": [
      "Value in checkpoint could not be found in the restored object: (root).optimizer.learning_rate\n"
     ]
    },
    {
     "name": "stdout",
     "output_type": "stream",
     "text": [
      "WARNING:tensorflow:Value in checkpoint could not be found in the restored object: (root).optimizer's state 'm' for (root).layer_with_weights-0.w\n"
     ]
    },
    {
     "name": "stderr",
     "output_type": "stream",
     "text": [
      "Value in checkpoint could not be found in the restored object: (root).optimizer's state 'm' for (root).layer_with_weights-0.w\n"
     ]
    },
    {
     "name": "stdout",
     "output_type": "stream",
     "text": [
      "WARNING:tensorflow:Value in checkpoint could not be found in the restored object: (root).optimizer's state 'm' for (root).layer_with_weights-1.w\n"
     ]
    },
    {
     "name": "stderr",
     "output_type": "stream",
     "text": [
      "Value in checkpoint could not be found in the restored object: (root).optimizer's state 'm' for (root).layer_with_weights-1.w\n"
     ]
    },
    {
     "name": "stdout",
     "output_type": "stream",
     "text": [
      "WARNING:tensorflow:Value in checkpoint could not be found in the restored object: (root).optimizer's state 'm' for (root).layer_with_weights-2.w\n"
     ]
    },
    {
     "name": "stderr",
     "output_type": "stream",
     "text": [
      "Value in checkpoint could not be found in the restored object: (root).optimizer's state 'm' for (root).layer_with_weights-2.w\n"
     ]
    },
    {
     "name": "stdout",
     "output_type": "stream",
     "text": [
      "WARNING:tensorflow:Value in checkpoint could not be found in the restored object: (root).optimizer's state 'm' for (root).layer_with_weights-3.w\n"
     ]
    },
    {
     "name": "stderr",
     "output_type": "stream",
     "text": [
      "Value in checkpoint could not be found in the restored object: (root).optimizer's state 'm' for (root).layer_with_weights-3.w\n"
     ]
    },
    {
     "name": "stdout",
     "output_type": "stream",
     "text": [
      "WARNING:tensorflow:Value in checkpoint could not be found in the restored object: (root).optimizer's state 'm' for (root).layer_with_weights-4.kernel\n"
     ]
    },
    {
     "name": "stderr",
     "output_type": "stream",
     "text": [
      "Value in checkpoint could not be found in the restored object: (root).optimizer's state 'm' for (root).layer_with_weights-4.kernel\n"
     ]
    },
    {
     "name": "stdout",
     "output_type": "stream",
     "text": [
      "WARNING:tensorflow:Value in checkpoint could not be found in the restored object: (root).optimizer's state 'm' for (root).layer_with_weights-4.bias\n"
     ]
    },
    {
     "name": "stderr",
     "output_type": "stream",
     "text": [
      "Value in checkpoint could not be found in the restored object: (root).optimizer's state 'm' for (root).layer_with_weights-4.bias\n"
     ]
    },
    {
     "name": "stdout",
     "output_type": "stream",
     "text": [
      "WARNING:tensorflow:Value in checkpoint could not be found in the restored object: (root).optimizer's state 'v' for (root).layer_with_weights-0.w\n"
     ]
    },
    {
     "name": "stderr",
     "output_type": "stream",
     "text": [
      "Value in checkpoint could not be found in the restored object: (root).optimizer's state 'v' for (root).layer_with_weights-0.w\n"
     ]
    },
    {
     "name": "stdout",
     "output_type": "stream",
     "text": [
      "WARNING:tensorflow:Value in checkpoint could not be found in the restored object: (root).optimizer's state 'v' for (root).layer_with_weights-1.w\n"
     ]
    },
    {
     "name": "stderr",
     "output_type": "stream",
     "text": [
      "Value in checkpoint could not be found in the restored object: (root).optimizer's state 'v' for (root).layer_with_weights-1.w\n"
     ]
    },
    {
     "name": "stdout",
     "output_type": "stream",
     "text": [
      "WARNING:tensorflow:Value in checkpoint could not be found in the restored object: (root).optimizer's state 'v' for (root).layer_with_weights-2.w\n"
     ]
    },
    {
     "name": "stderr",
     "output_type": "stream",
     "text": [
      "Value in checkpoint could not be found in the restored object: (root).optimizer's state 'v' for (root).layer_with_weights-2.w\n"
     ]
    },
    {
     "name": "stdout",
     "output_type": "stream",
     "text": [
      "WARNING:tensorflow:Value in checkpoint could not be found in the restored object: (root).optimizer's state 'v' for (root).layer_with_weights-3.w\n"
     ]
    },
    {
     "name": "stderr",
     "output_type": "stream",
     "text": [
      "Value in checkpoint could not be found in the restored object: (root).optimizer's state 'v' for (root).layer_with_weights-3.w\n"
     ]
    },
    {
     "name": "stdout",
     "output_type": "stream",
     "text": [
      "WARNING:tensorflow:Value in checkpoint could not be found in the restored object: (root).optimizer's state 'v' for (root).layer_with_weights-4.kernel\n"
     ]
    },
    {
     "name": "stderr",
     "output_type": "stream",
     "text": [
      "Value in checkpoint could not be found in the restored object: (root).optimizer's state 'v' for (root).layer_with_weights-4.kernel\n"
     ]
    },
    {
     "name": "stdout",
     "output_type": "stream",
     "text": [
      "WARNING:tensorflow:Value in checkpoint could not be found in the restored object: (root).optimizer's state 'v' for (root).layer_with_weights-4.bias\n"
     ]
    },
    {
     "name": "stderr",
     "output_type": "stream",
     "text": [
      "Value in checkpoint could not be found in the restored object: (root).optimizer's state 'v' for (root).layer_with_weights-4.bias\n"
     ]
    },
    {
     "name": "stdout",
     "output_type": "stream",
     "text": [
      "WARNING:tensorflow:Detecting that an object or model or tf.train.Checkpoint is being deleted with unrestored values. See the following logs for the specific values in question. To silence these warnings, use `status.expect_partial()`. See https://www.tensorflow.org/api_docs/python/tf/train/Checkpoint#restorefor details about the status object returned by the restore function.\n"
     ]
    },
    {
     "name": "stderr",
     "output_type": "stream",
     "text": [
      "Detecting that an object or model or tf.train.Checkpoint is being deleted with unrestored values. See the following logs for the specific values in question. To silence these warnings, use `status.expect_partial()`. See https://www.tensorflow.org/api_docs/python/tf/train/Checkpoint#restorefor details about the status object returned by the restore function.\n"
     ]
    },
    {
     "name": "stdout",
     "output_type": "stream",
     "text": [
      "WARNING:tensorflow:Value in checkpoint could not be found in the restored object: (root).layer_with_weights-4.kernel\n"
     ]
    },
    {
     "name": "stderr",
     "output_type": "stream",
     "text": [
      "Value in checkpoint could not be found in the restored object: (root).layer_with_weights-4.kernel\n"
     ]
    },
    {
     "name": "stdout",
     "output_type": "stream",
     "text": [
      "WARNING:tensorflow:Value in checkpoint could not be found in the restored object: (root).layer_with_weights-4.bias\n"
     ]
    },
    {
     "name": "stderr",
     "output_type": "stream",
     "text": [
      "Value in checkpoint could not be found in the restored object: (root).layer_with_weights-4.bias\n"
     ]
    },
    {
     "name": "stdout",
     "output_type": "stream",
     "text": [
      "WARNING:tensorflow:Value in checkpoint could not be found in the restored object: (root).optimizer.iter\n"
     ]
    },
    {
     "name": "stderr",
     "output_type": "stream",
     "text": [
      "Value in checkpoint could not be found in the restored object: (root).optimizer.iter\n"
     ]
    },
    {
     "name": "stdout",
     "output_type": "stream",
     "text": [
      "WARNING:tensorflow:Value in checkpoint could not be found in the restored object: (root).optimizer.beta_1\n"
     ]
    },
    {
     "name": "stderr",
     "output_type": "stream",
     "text": [
      "Value in checkpoint could not be found in the restored object: (root).optimizer.beta_1\n"
     ]
    },
    {
     "name": "stdout",
     "output_type": "stream",
     "text": [
      "WARNING:tensorflow:Value in checkpoint could not be found in the restored object: (root).optimizer.beta_2\n"
     ]
    },
    {
     "name": "stderr",
     "output_type": "stream",
     "text": [
      "Value in checkpoint could not be found in the restored object: (root).optimizer.beta_2\n"
     ]
    },
    {
     "name": "stdout",
     "output_type": "stream",
     "text": [
      "WARNING:tensorflow:Value in checkpoint could not be found in the restored object: (root).optimizer.decay\n"
     ]
    },
    {
     "name": "stderr",
     "output_type": "stream",
     "text": [
      "Value in checkpoint could not be found in the restored object: (root).optimizer.decay\n"
     ]
    },
    {
     "name": "stdout",
     "output_type": "stream",
     "text": [
      "WARNING:tensorflow:Value in checkpoint could not be found in the restored object: (root).optimizer.learning_rate\n"
     ]
    },
    {
     "name": "stderr",
     "output_type": "stream",
     "text": [
      "Value in checkpoint could not be found in the restored object: (root).optimizer.learning_rate\n"
     ]
    },
    {
     "name": "stdout",
     "output_type": "stream",
     "text": [
      "WARNING:tensorflow:Value in checkpoint could not be found in the restored object: (root).optimizer's state 'm' for (root).layer_with_weights-0.w\n"
     ]
    },
    {
     "name": "stderr",
     "output_type": "stream",
     "text": [
      "Value in checkpoint could not be found in the restored object: (root).optimizer's state 'm' for (root).layer_with_weights-0.w\n"
     ]
    },
    {
     "name": "stdout",
     "output_type": "stream",
     "text": [
      "WARNING:tensorflow:Value in checkpoint could not be found in the restored object: (root).optimizer's state 'm' for (root).layer_with_weights-1.w\n"
     ]
    },
    {
     "name": "stderr",
     "output_type": "stream",
     "text": [
      "Value in checkpoint could not be found in the restored object: (root).optimizer's state 'm' for (root).layer_with_weights-1.w\n"
     ]
    },
    {
     "name": "stdout",
     "output_type": "stream",
     "text": [
      "WARNING:tensorflow:Value in checkpoint could not be found in the restored object: (root).optimizer's state 'm' for (root).layer_with_weights-2.w\n"
     ]
    },
    {
     "name": "stderr",
     "output_type": "stream",
     "text": [
      "Value in checkpoint could not be found in the restored object: (root).optimizer's state 'm' for (root).layer_with_weights-2.w\n"
     ]
    },
    {
     "name": "stdout",
     "output_type": "stream",
     "text": [
      "WARNING:tensorflow:Value in checkpoint could not be found in the restored object: (root).optimizer's state 'm' for (root).layer_with_weights-3.w\n"
     ]
    },
    {
     "name": "stderr",
     "output_type": "stream",
     "text": [
      "Value in checkpoint could not be found in the restored object: (root).optimizer's state 'm' for (root).layer_with_weights-3.w\n"
     ]
    },
    {
     "name": "stdout",
     "output_type": "stream",
     "text": [
      "WARNING:tensorflow:Value in checkpoint could not be found in the restored object: (root).optimizer's state 'm' for (root).layer_with_weights-4.kernel\n"
     ]
    },
    {
     "name": "stderr",
     "output_type": "stream",
     "text": [
      "Value in checkpoint could not be found in the restored object: (root).optimizer's state 'm' for (root).layer_with_weights-4.kernel\n"
     ]
    },
    {
     "name": "stdout",
     "output_type": "stream",
     "text": [
      "WARNING:tensorflow:Value in checkpoint could not be found in the restored object: (root).optimizer's state 'm' for (root).layer_with_weights-4.bias\n"
     ]
    },
    {
     "name": "stderr",
     "output_type": "stream",
     "text": [
      "Value in checkpoint could not be found in the restored object: (root).optimizer's state 'm' for (root).layer_with_weights-4.bias\n"
     ]
    },
    {
     "name": "stdout",
     "output_type": "stream",
     "text": [
      "WARNING:tensorflow:Value in checkpoint could not be found in the restored object: (root).optimizer's state 'v' for (root).layer_with_weights-0.w\n"
     ]
    },
    {
     "name": "stderr",
     "output_type": "stream",
     "text": [
      "Value in checkpoint could not be found in the restored object: (root).optimizer's state 'v' for (root).layer_with_weights-0.w\n"
     ]
    },
    {
     "name": "stdout",
     "output_type": "stream",
     "text": [
      "WARNING:tensorflow:Value in checkpoint could not be found in the restored object: (root).optimizer's state 'v' for (root).layer_with_weights-1.w\n"
     ]
    },
    {
     "name": "stderr",
     "output_type": "stream",
     "text": [
      "Value in checkpoint could not be found in the restored object: (root).optimizer's state 'v' for (root).layer_with_weights-1.w\n"
     ]
    },
    {
     "name": "stdout",
     "output_type": "stream",
     "text": [
      "WARNING:tensorflow:Value in checkpoint could not be found in the restored object: (root).optimizer's state 'v' for (root).layer_with_weights-2.w\n"
     ]
    },
    {
     "name": "stderr",
     "output_type": "stream",
     "text": [
      "Value in checkpoint could not be found in the restored object: (root).optimizer's state 'v' for (root).layer_with_weights-2.w\n"
     ]
    },
    {
     "name": "stdout",
     "output_type": "stream",
     "text": [
      "WARNING:tensorflow:Value in checkpoint could not be found in the restored object: (root).optimizer's state 'v' for (root).layer_with_weights-3.w\n"
     ]
    },
    {
     "name": "stderr",
     "output_type": "stream",
     "text": [
      "Value in checkpoint could not be found in the restored object: (root).optimizer's state 'v' for (root).layer_with_weights-3.w\n"
     ]
    },
    {
     "name": "stdout",
     "output_type": "stream",
     "text": [
      "WARNING:tensorflow:Value in checkpoint could not be found in the restored object: (root).optimizer's state 'v' for (root).layer_with_weights-4.kernel\n"
     ]
    },
    {
     "name": "stderr",
     "output_type": "stream",
     "text": [
      "Value in checkpoint could not be found in the restored object: (root).optimizer's state 'v' for (root).layer_with_weights-4.kernel\n"
     ]
    },
    {
     "name": "stdout",
     "output_type": "stream",
     "text": [
      "WARNING:tensorflow:Value in checkpoint could not be found in the restored object: (root).optimizer's state 'v' for (root).layer_with_weights-4.bias\n"
     ]
    },
    {
     "name": "stderr",
     "output_type": "stream",
     "text": [
      "Value in checkpoint could not be found in the restored object: (root).optimizer's state 'v' for (root).layer_with_weights-4.bias\n"
     ]
    },
    {
     "name": "stdout",
     "output_type": "stream",
     "text": [
      "WARNING:tensorflow:Detecting that an object or model or tf.train.Checkpoint is being deleted with unrestored values. See the following logs for the specific values in question. To silence these warnings, use `status.expect_partial()`. See https://www.tensorflow.org/api_docs/python/tf/train/Checkpoint#restorefor details about the status object returned by the restore function.\n"
     ]
    },
    {
     "name": "stderr",
     "output_type": "stream",
     "text": [
      "Detecting that an object or model or tf.train.Checkpoint is being deleted with unrestored values. See the following logs for the specific values in question. To silence these warnings, use `status.expect_partial()`. See https://www.tensorflow.org/api_docs/python/tf/train/Checkpoint#restorefor details about the status object returned by the restore function.\n"
     ]
    },
    {
     "name": "stdout",
     "output_type": "stream",
     "text": [
      "WARNING:tensorflow:Value in checkpoint could not be found in the restored object: (root).layer_with_weights-4.kernel\n"
     ]
    },
    {
     "name": "stderr",
     "output_type": "stream",
     "text": [
      "Value in checkpoint could not be found in the restored object: (root).layer_with_weights-4.kernel\n"
     ]
    },
    {
     "name": "stdout",
     "output_type": "stream",
     "text": [
      "WARNING:tensorflow:Value in checkpoint could not be found in the restored object: (root).layer_with_weights-4.bias\n"
     ]
    },
    {
     "name": "stderr",
     "output_type": "stream",
     "text": [
      "Value in checkpoint could not be found in the restored object: (root).layer_with_weights-4.bias\n"
     ]
    },
    {
     "name": "stdout",
     "output_type": "stream",
     "text": [
      "WARNING:tensorflow:Value in checkpoint could not be found in the restored object: (root).optimizer.iter\n"
     ]
    },
    {
     "name": "stderr",
     "output_type": "stream",
     "text": [
      "Value in checkpoint could not be found in the restored object: (root).optimizer.iter\n"
     ]
    },
    {
     "name": "stdout",
     "output_type": "stream",
     "text": [
      "WARNING:tensorflow:Value in checkpoint could not be found in the restored object: (root).optimizer.beta_1\n"
     ]
    },
    {
     "name": "stderr",
     "output_type": "stream",
     "text": [
      "Value in checkpoint could not be found in the restored object: (root).optimizer.beta_1\n"
     ]
    },
    {
     "name": "stdout",
     "output_type": "stream",
     "text": [
      "WARNING:tensorflow:Value in checkpoint could not be found in the restored object: (root).optimizer.beta_2\n"
     ]
    },
    {
     "name": "stderr",
     "output_type": "stream",
     "text": [
      "Value in checkpoint could not be found in the restored object: (root).optimizer.beta_2\n"
     ]
    },
    {
     "name": "stdout",
     "output_type": "stream",
     "text": [
      "WARNING:tensorflow:Value in checkpoint could not be found in the restored object: (root).optimizer.decay\n"
     ]
    },
    {
     "name": "stderr",
     "output_type": "stream",
     "text": [
      "Value in checkpoint could not be found in the restored object: (root).optimizer.decay\n"
     ]
    },
    {
     "name": "stdout",
     "output_type": "stream",
     "text": [
      "WARNING:tensorflow:Value in checkpoint could not be found in the restored object: (root).optimizer.learning_rate\n"
     ]
    },
    {
     "name": "stderr",
     "output_type": "stream",
     "text": [
      "Value in checkpoint could not be found in the restored object: (root).optimizer.learning_rate\n"
     ]
    },
    {
     "name": "stdout",
     "output_type": "stream",
     "text": [
      "WARNING:tensorflow:Value in checkpoint could not be found in the restored object: (root).optimizer's state 'm' for (root).layer_with_weights-0.w\n"
     ]
    },
    {
     "name": "stderr",
     "output_type": "stream",
     "text": [
      "Value in checkpoint could not be found in the restored object: (root).optimizer's state 'm' for (root).layer_with_weights-0.w\n"
     ]
    },
    {
     "name": "stdout",
     "output_type": "stream",
     "text": [
      "WARNING:tensorflow:Value in checkpoint could not be found in the restored object: (root).optimizer's state 'm' for (root).layer_with_weights-1.w\n"
     ]
    },
    {
     "name": "stderr",
     "output_type": "stream",
     "text": [
      "Value in checkpoint could not be found in the restored object: (root).optimizer's state 'm' for (root).layer_with_weights-1.w\n"
     ]
    },
    {
     "name": "stdout",
     "output_type": "stream",
     "text": [
      "WARNING:tensorflow:Value in checkpoint could not be found in the restored object: (root).optimizer's state 'm' for (root).layer_with_weights-2.w\n"
     ]
    },
    {
     "name": "stderr",
     "output_type": "stream",
     "text": [
      "Value in checkpoint could not be found in the restored object: (root).optimizer's state 'm' for (root).layer_with_weights-2.w\n"
     ]
    },
    {
     "name": "stdout",
     "output_type": "stream",
     "text": [
      "WARNING:tensorflow:Value in checkpoint could not be found in the restored object: (root).optimizer's state 'm' for (root).layer_with_weights-3.w\n"
     ]
    },
    {
     "name": "stderr",
     "output_type": "stream",
     "text": [
      "Value in checkpoint could not be found in the restored object: (root).optimizer's state 'm' for (root).layer_with_weights-3.w\n"
     ]
    },
    {
     "name": "stdout",
     "output_type": "stream",
     "text": [
      "WARNING:tensorflow:Value in checkpoint could not be found in the restored object: (root).optimizer's state 'm' for (root).layer_with_weights-4.kernel\n"
     ]
    },
    {
     "name": "stderr",
     "output_type": "stream",
     "text": [
      "Value in checkpoint could not be found in the restored object: (root).optimizer's state 'm' for (root).layer_with_weights-4.kernel\n"
     ]
    },
    {
     "name": "stdout",
     "output_type": "stream",
     "text": [
      "WARNING:tensorflow:Value in checkpoint could not be found in the restored object: (root).optimizer's state 'm' for (root).layer_with_weights-4.bias\n"
     ]
    },
    {
     "name": "stderr",
     "output_type": "stream",
     "text": [
      "Value in checkpoint could not be found in the restored object: (root).optimizer's state 'm' for (root).layer_with_weights-4.bias\n"
     ]
    },
    {
     "name": "stdout",
     "output_type": "stream",
     "text": [
      "WARNING:tensorflow:Value in checkpoint could not be found in the restored object: (root).optimizer's state 'v' for (root).layer_with_weights-0.w\n"
     ]
    },
    {
     "name": "stderr",
     "output_type": "stream",
     "text": [
      "Value in checkpoint could not be found in the restored object: (root).optimizer's state 'v' for (root).layer_with_weights-0.w\n"
     ]
    },
    {
     "name": "stdout",
     "output_type": "stream",
     "text": [
      "WARNING:tensorflow:Value in checkpoint could not be found in the restored object: (root).optimizer's state 'v' for (root).layer_with_weights-1.w\n"
     ]
    },
    {
     "name": "stderr",
     "output_type": "stream",
     "text": [
      "Value in checkpoint could not be found in the restored object: (root).optimizer's state 'v' for (root).layer_with_weights-1.w\n"
     ]
    },
    {
     "name": "stdout",
     "output_type": "stream",
     "text": [
      "WARNING:tensorflow:Value in checkpoint could not be found in the restored object: (root).optimizer's state 'v' for (root).layer_with_weights-2.w\n"
     ]
    },
    {
     "name": "stderr",
     "output_type": "stream",
     "text": [
      "Value in checkpoint could not be found in the restored object: (root).optimizer's state 'v' for (root).layer_with_weights-2.w\n"
     ]
    },
    {
     "name": "stdout",
     "output_type": "stream",
     "text": [
      "WARNING:tensorflow:Value in checkpoint could not be found in the restored object: (root).optimizer's state 'v' for (root).layer_with_weights-3.w\n"
     ]
    },
    {
     "name": "stderr",
     "output_type": "stream",
     "text": [
      "Value in checkpoint could not be found in the restored object: (root).optimizer's state 'v' for (root).layer_with_weights-3.w\n"
     ]
    },
    {
     "name": "stdout",
     "output_type": "stream",
     "text": [
      "WARNING:tensorflow:Value in checkpoint could not be found in the restored object: (root).optimizer's state 'v' for (root).layer_with_weights-4.kernel\n"
     ]
    },
    {
     "name": "stderr",
     "output_type": "stream",
     "text": [
      "Value in checkpoint could not be found in the restored object: (root).optimizer's state 'v' for (root).layer_with_weights-4.kernel\n"
     ]
    },
    {
     "name": "stdout",
     "output_type": "stream",
     "text": [
      "WARNING:tensorflow:Value in checkpoint could not be found in the restored object: (root).optimizer's state 'v' for (root).layer_with_weights-4.bias\n"
     ]
    },
    {
     "name": "stderr",
     "output_type": "stream",
     "text": [
      "Value in checkpoint could not be found in the restored object: (root).optimizer's state 'v' for (root).layer_with_weights-4.bias\n"
     ]
    },
    {
     "name": "stdout",
     "output_type": "stream",
     "text": [
      "WARNING:tensorflow:Detecting that an object or model or tf.train.Checkpoint is being deleted with unrestored values. See the following logs for the specific values in question. To silence these warnings, use `status.expect_partial()`. See https://www.tensorflow.org/api_docs/python/tf/train/Checkpoint#restorefor details about the status object returned by the restore function.\n"
     ]
    },
    {
     "name": "stderr",
     "output_type": "stream",
     "text": [
      "Detecting that an object or model or tf.train.Checkpoint is being deleted with unrestored values. See the following logs for the specific values in question. To silence these warnings, use `status.expect_partial()`. See https://www.tensorflow.org/api_docs/python/tf/train/Checkpoint#restorefor details about the status object returned by the restore function.\n"
     ]
    },
    {
     "name": "stdout",
     "output_type": "stream",
     "text": [
      "WARNING:tensorflow:Value in checkpoint could not be found in the restored object: (root).layer_with_weights-4.kernel\n"
     ]
    },
    {
     "name": "stderr",
     "output_type": "stream",
     "text": [
      "Value in checkpoint could not be found in the restored object: (root).layer_with_weights-4.kernel\n"
     ]
    },
    {
     "name": "stdout",
     "output_type": "stream",
     "text": [
      "WARNING:tensorflow:Value in checkpoint could not be found in the restored object: (root).layer_with_weights-4.bias\n"
     ]
    },
    {
     "name": "stderr",
     "output_type": "stream",
     "text": [
      "Value in checkpoint could not be found in the restored object: (root).layer_with_weights-4.bias\n"
     ]
    },
    {
     "name": "stdout",
     "output_type": "stream",
     "text": [
      "WARNING:tensorflow:Value in checkpoint could not be found in the restored object: (root).optimizer.iter\n"
     ]
    },
    {
     "name": "stderr",
     "output_type": "stream",
     "text": [
      "Value in checkpoint could not be found in the restored object: (root).optimizer.iter\n"
     ]
    },
    {
     "name": "stdout",
     "output_type": "stream",
     "text": [
      "WARNING:tensorflow:Value in checkpoint could not be found in the restored object: (root).optimizer.beta_1\n"
     ]
    },
    {
     "name": "stderr",
     "output_type": "stream",
     "text": [
      "Value in checkpoint could not be found in the restored object: (root).optimizer.beta_1\n"
     ]
    },
    {
     "name": "stdout",
     "output_type": "stream",
     "text": [
      "WARNING:tensorflow:Value in checkpoint could not be found in the restored object: (root).optimizer.beta_2\n"
     ]
    },
    {
     "name": "stderr",
     "output_type": "stream",
     "text": [
      "Value in checkpoint could not be found in the restored object: (root).optimizer.beta_2\n"
     ]
    },
    {
     "name": "stdout",
     "output_type": "stream",
     "text": [
      "WARNING:tensorflow:Value in checkpoint could not be found in the restored object: (root).optimizer.decay\n"
     ]
    },
    {
     "name": "stderr",
     "output_type": "stream",
     "text": [
      "Value in checkpoint could not be found in the restored object: (root).optimizer.decay\n"
     ]
    },
    {
     "name": "stdout",
     "output_type": "stream",
     "text": [
      "WARNING:tensorflow:Value in checkpoint could not be found in the restored object: (root).optimizer.learning_rate\n"
     ]
    },
    {
     "name": "stderr",
     "output_type": "stream",
     "text": [
      "Value in checkpoint could not be found in the restored object: (root).optimizer.learning_rate\n"
     ]
    },
    {
     "name": "stdout",
     "output_type": "stream",
     "text": [
      "WARNING:tensorflow:Value in checkpoint could not be found in the restored object: (root).optimizer's state 'm' for (root).layer_with_weights-0.w\n"
     ]
    },
    {
     "name": "stderr",
     "output_type": "stream",
     "text": [
      "Value in checkpoint could not be found in the restored object: (root).optimizer's state 'm' for (root).layer_with_weights-0.w\n"
     ]
    },
    {
     "name": "stdout",
     "output_type": "stream",
     "text": [
      "WARNING:tensorflow:Value in checkpoint could not be found in the restored object: (root).optimizer's state 'm' for (root).layer_with_weights-1.w\n"
     ]
    },
    {
     "name": "stderr",
     "output_type": "stream",
     "text": [
      "Value in checkpoint could not be found in the restored object: (root).optimizer's state 'm' for (root).layer_with_weights-1.w\n"
     ]
    },
    {
     "name": "stdout",
     "output_type": "stream",
     "text": [
      "WARNING:tensorflow:Value in checkpoint could not be found in the restored object: (root).optimizer's state 'm' for (root).layer_with_weights-2.w\n"
     ]
    },
    {
     "name": "stderr",
     "output_type": "stream",
     "text": [
      "Value in checkpoint could not be found in the restored object: (root).optimizer's state 'm' for (root).layer_with_weights-2.w\n"
     ]
    },
    {
     "name": "stdout",
     "output_type": "stream",
     "text": [
      "WARNING:tensorflow:Value in checkpoint could not be found in the restored object: (root).optimizer's state 'm' for (root).layer_with_weights-3.w\n"
     ]
    },
    {
     "name": "stderr",
     "output_type": "stream",
     "text": [
      "Value in checkpoint could not be found in the restored object: (root).optimizer's state 'm' for (root).layer_with_weights-3.w\n"
     ]
    },
    {
     "name": "stdout",
     "output_type": "stream",
     "text": [
      "WARNING:tensorflow:Value in checkpoint could not be found in the restored object: (root).optimizer's state 'm' for (root).layer_with_weights-4.kernel\n"
     ]
    },
    {
     "name": "stderr",
     "output_type": "stream",
     "text": [
      "Value in checkpoint could not be found in the restored object: (root).optimizer's state 'm' for (root).layer_with_weights-4.kernel\n"
     ]
    },
    {
     "name": "stdout",
     "output_type": "stream",
     "text": [
      "WARNING:tensorflow:Value in checkpoint could not be found in the restored object: (root).optimizer's state 'm' for (root).layer_with_weights-4.bias\n"
     ]
    },
    {
     "name": "stderr",
     "output_type": "stream",
     "text": [
      "Value in checkpoint could not be found in the restored object: (root).optimizer's state 'm' for (root).layer_with_weights-4.bias\n"
     ]
    },
    {
     "name": "stdout",
     "output_type": "stream",
     "text": [
      "WARNING:tensorflow:Value in checkpoint could not be found in the restored object: (root).optimizer's state 'v' for (root).layer_with_weights-0.w\n"
     ]
    },
    {
     "name": "stderr",
     "output_type": "stream",
     "text": [
      "Value in checkpoint could not be found in the restored object: (root).optimizer's state 'v' for (root).layer_with_weights-0.w\n"
     ]
    },
    {
     "name": "stdout",
     "output_type": "stream",
     "text": [
      "WARNING:tensorflow:Value in checkpoint could not be found in the restored object: (root).optimizer's state 'v' for (root).layer_with_weights-1.w\n"
     ]
    },
    {
     "name": "stderr",
     "output_type": "stream",
     "text": [
      "Value in checkpoint could not be found in the restored object: (root).optimizer's state 'v' for (root).layer_with_weights-1.w\n"
     ]
    },
    {
     "name": "stdout",
     "output_type": "stream",
     "text": [
      "WARNING:tensorflow:Value in checkpoint could not be found in the restored object: (root).optimizer's state 'v' for (root).layer_with_weights-2.w\n"
     ]
    },
    {
     "name": "stderr",
     "output_type": "stream",
     "text": [
      "Value in checkpoint could not be found in the restored object: (root).optimizer's state 'v' for (root).layer_with_weights-2.w\n"
     ]
    },
    {
     "name": "stdout",
     "output_type": "stream",
     "text": [
      "WARNING:tensorflow:Value in checkpoint could not be found in the restored object: (root).optimizer's state 'v' for (root).layer_with_weights-3.w\n"
     ]
    },
    {
     "name": "stderr",
     "output_type": "stream",
     "text": [
      "Value in checkpoint could not be found in the restored object: (root).optimizer's state 'v' for (root).layer_with_weights-3.w\n"
     ]
    },
    {
     "name": "stdout",
     "output_type": "stream",
     "text": [
      "WARNING:tensorflow:Value in checkpoint could not be found in the restored object: (root).optimizer's state 'v' for (root).layer_with_weights-4.kernel\n"
     ]
    },
    {
     "name": "stderr",
     "output_type": "stream",
     "text": [
      "Value in checkpoint could not be found in the restored object: (root).optimizer's state 'v' for (root).layer_with_weights-4.kernel\n"
     ]
    },
    {
     "name": "stdout",
     "output_type": "stream",
     "text": [
      "WARNING:tensorflow:Value in checkpoint could not be found in the restored object: (root).optimizer's state 'v' for (root).layer_with_weights-4.bias\n"
     ]
    },
    {
     "name": "stderr",
     "output_type": "stream",
     "text": [
      "Value in checkpoint could not be found in the restored object: (root).optimizer's state 'v' for (root).layer_with_weights-4.bias\n"
     ]
    },
    {
     "name": "stdout",
     "output_type": "stream",
     "text": [
      "WARNING:tensorflow:Detecting that an object or model or tf.train.Checkpoint is being deleted with unrestored values. See the following logs for the specific values in question. To silence these warnings, use `status.expect_partial()`. See https://www.tensorflow.org/api_docs/python/tf/train/Checkpoint#restorefor details about the status object returned by the restore function.\n"
     ]
    },
    {
     "name": "stderr",
     "output_type": "stream",
     "text": [
      "Detecting that an object or model or tf.train.Checkpoint is being deleted with unrestored values. See the following logs for the specific values in question. To silence these warnings, use `status.expect_partial()`. See https://www.tensorflow.org/api_docs/python/tf/train/Checkpoint#restorefor details about the status object returned by the restore function.\n"
     ]
    },
    {
     "name": "stdout",
     "output_type": "stream",
     "text": [
      "WARNING:tensorflow:Value in checkpoint could not be found in the restored object: (root).layer_with_weights-4.kernel\n"
     ]
    },
    {
     "name": "stderr",
     "output_type": "stream",
     "text": [
      "Value in checkpoint could not be found in the restored object: (root).layer_with_weights-4.kernel\n"
     ]
    },
    {
     "name": "stdout",
     "output_type": "stream",
     "text": [
      "WARNING:tensorflow:Value in checkpoint could not be found in the restored object: (root).layer_with_weights-4.bias\n"
     ]
    },
    {
     "name": "stderr",
     "output_type": "stream",
     "text": [
      "Value in checkpoint could not be found in the restored object: (root).layer_with_weights-4.bias\n"
     ]
    },
    {
     "name": "stdout",
     "output_type": "stream",
     "text": [
      "WARNING:tensorflow:Value in checkpoint could not be found in the restored object: (root).optimizer.iter\n"
     ]
    },
    {
     "name": "stderr",
     "output_type": "stream",
     "text": [
      "Value in checkpoint could not be found in the restored object: (root).optimizer.iter\n"
     ]
    },
    {
     "name": "stdout",
     "output_type": "stream",
     "text": [
      "WARNING:tensorflow:Value in checkpoint could not be found in the restored object: (root).optimizer.beta_1\n"
     ]
    },
    {
     "name": "stderr",
     "output_type": "stream",
     "text": [
      "Value in checkpoint could not be found in the restored object: (root).optimizer.beta_1\n"
     ]
    },
    {
     "name": "stdout",
     "output_type": "stream",
     "text": [
      "WARNING:tensorflow:Value in checkpoint could not be found in the restored object: (root).optimizer.beta_2\n"
     ]
    },
    {
     "name": "stderr",
     "output_type": "stream",
     "text": [
      "Value in checkpoint could not be found in the restored object: (root).optimizer.beta_2\n"
     ]
    },
    {
     "name": "stdout",
     "output_type": "stream",
     "text": [
      "WARNING:tensorflow:Value in checkpoint could not be found in the restored object: (root).optimizer.decay\n"
     ]
    },
    {
     "name": "stderr",
     "output_type": "stream",
     "text": [
      "Value in checkpoint could not be found in the restored object: (root).optimizer.decay\n"
     ]
    },
    {
     "name": "stdout",
     "output_type": "stream",
     "text": [
      "WARNING:tensorflow:Value in checkpoint could not be found in the restored object: (root).optimizer.learning_rate\n"
     ]
    },
    {
     "name": "stderr",
     "output_type": "stream",
     "text": [
      "Value in checkpoint could not be found in the restored object: (root).optimizer.learning_rate\n"
     ]
    },
    {
     "name": "stdout",
     "output_type": "stream",
     "text": [
      "WARNING:tensorflow:Value in checkpoint could not be found in the restored object: (root).optimizer's state 'm' for (root).layer_with_weights-0.w\n"
     ]
    },
    {
     "name": "stderr",
     "output_type": "stream",
     "text": [
      "Value in checkpoint could not be found in the restored object: (root).optimizer's state 'm' for (root).layer_with_weights-0.w\n"
     ]
    },
    {
     "name": "stdout",
     "output_type": "stream",
     "text": [
      "WARNING:tensorflow:Value in checkpoint could not be found in the restored object: (root).optimizer's state 'm' for (root).layer_with_weights-1.w\n"
     ]
    },
    {
     "name": "stderr",
     "output_type": "stream",
     "text": [
      "Value in checkpoint could not be found in the restored object: (root).optimizer's state 'm' for (root).layer_with_weights-1.w\n"
     ]
    },
    {
     "name": "stdout",
     "output_type": "stream",
     "text": [
      "WARNING:tensorflow:Value in checkpoint could not be found in the restored object: (root).optimizer's state 'm' for (root).layer_with_weights-2.w\n"
     ]
    },
    {
     "name": "stderr",
     "output_type": "stream",
     "text": [
      "Value in checkpoint could not be found in the restored object: (root).optimizer's state 'm' for (root).layer_with_weights-2.w\n"
     ]
    },
    {
     "name": "stdout",
     "output_type": "stream",
     "text": [
      "WARNING:tensorflow:Value in checkpoint could not be found in the restored object: (root).optimizer's state 'm' for (root).layer_with_weights-3.w\n"
     ]
    },
    {
     "name": "stderr",
     "output_type": "stream",
     "text": [
      "Value in checkpoint could not be found in the restored object: (root).optimizer's state 'm' for (root).layer_with_weights-3.w\n"
     ]
    },
    {
     "name": "stdout",
     "output_type": "stream",
     "text": [
      "WARNING:tensorflow:Value in checkpoint could not be found in the restored object: (root).optimizer's state 'm' for (root).layer_with_weights-4.kernel\n"
     ]
    },
    {
     "name": "stderr",
     "output_type": "stream",
     "text": [
      "Value in checkpoint could not be found in the restored object: (root).optimizer's state 'm' for (root).layer_with_weights-4.kernel\n"
     ]
    },
    {
     "name": "stdout",
     "output_type": "stream",
     "text": [
      "WARNING:tensorflow:Value in checkpoint could not be found in the restored object: (root).optimizer's state 'm' for (root).layer_with_weights-4.bias\n"
     ]
    },
    {
     "name": "stderr",
     "output_type": "stream",
     "text": [
      "Value in checkpoint could not be found in the restored object: (root).optimizer's state 'm' for (root).layer_with_weights-4.bias\n"
     ]
    },
    {
     "name": "stdout",
     "output_type": "stream",
     "text": [
      "WARNING:tensorflow:Value in checkpoint could not be found in the restored object: (root).optimizer's state 'v' for (root).layer_with_weights-0.w\n"
     ]
    },
    {
     "name": "stderr",
     "output_type": "stream",
     "text": [
      "Value in checkpoint could not be found in the restored object: (root).optimizer's state 'v' for (root).layer_with_weights-0.w\n"
     ]
    },
    {
     "name": "stdout",
     "output_type": "stream",
     "text": [
      "WARNING:tensorflow:Value in checkpoint could not be found in the restored object: (root).optimizer's state 'v' for (root).layer_with_weights-1.w\n"
     ]
    },
    {
     "name": "stderr",
     "output_type": "stream",
     "text": [
      "Value in checkpoint could not be found in the restored object: (root).optimizer's state 'v' for (root).layer_with_weights-1.w\n"
     ]
    },
    {
     "name": "stdout",
     "output_type": "stream",
     "text": [
      "WARNING:tensorflow:Value in checkpoint could not be found in the restored object: (root).optimizer's state 'v' for (root).layer_with_weights-2.w\n"
     ]
    },
    {
     "name": "stderr",
     "output_type": "stream",
     "text": [
      "Value in checkpoint could not be found in the restored object: (root).optimizer's state 'v' for (root).layer_with_weights-2.w\n"
     ]
    },
    {
     "name": "stdout",
     "output_type": "stream",
     "text": [
      "WARNING:tensorflow:Value in checkpoint could not be found in the restored object: (root).optimizer's state 'v' for (root).layer_with_weights-3.w\n"
     ]
    },
    {
     "name": "stderr",
     "output_type": "stream",
     "text": [
      "Value in checkpoint could not be found in the restored object: (root).optimizer's state 'v' for (root).layer_with_weights-3.w\n"
     ]
    },
    {
     "name": "stdout",
     "output_type": "stream",
     "text": [
      "WARNING:tensorflow:Value in checkpoint could not be found in the restored object: (root).optimizer's state 'v' for (root).layer_with_weights-4.kernel\n"
     ]
    },
    {
     "name": "stderr",
     "output_type": "stream",
     "text": [
      "Value in checkpoint could not be found in the restored object: (root).optimizer's state 'v' for (root).layer_with_weights-4.kernel\n"
     ]
    },
    {
     "name": "stdout",
     "output_type": "stream",
     "text": [
      "WARNING:tensorflow:Value in checkpoint could not be found in the restored object: (root).optimizer's state 'v' for (root).layer_with_weights-4.bias\n"
     ]
    },
    {
     "name": "stderr",
     "output_type": "stream",
     "text": [
      "Value in checkpoint could not be found in the restored object: (root).optimizer's state 'v' for (root).layer_with_weights-4.bias\n"
     ]
    }
   ],
   "source": [
    "train_prediction = electrolyte_model.predict(dataset.batch(1))\n",
    "# np.savetxt('newdata_pred.txt', prediction, fmt='%.18e')\n"
   ]
  },
  {
   "cell_type": "code",
   "execution_count": 34,
   "id": "57c21f98-33b7-4d28-a28e-8e3bb88e4585",
   "metadata": {},
   "outputs": [],
   "source": [
    "test_pred_df = pd.DataFrame(test_prediction)\n",
    "test_pred_df.columns = ['IC Pred']\n",
    "logz = np.reshape(data[property_columns],-1) \n",
    "\n",
    "test_pred_df['IC Actual'] = logz\n",
    "test_pred_df\n",
    "test_pred_df.to_csv('test_combdata_082324_pred.csv')"
   ]
  },
  {
   "cell_type": "code",
   "execution_count": 12,
   "id": "b9c98407-4c4d-47f7-a183-cb60cfff3be7",
   "metadata": {},
   "outputs": [],
   "source": [
    "def evaluate(predictions, test_labels,plot='off',unit = 'uS/cm',axis='auto', x_lim = [0,0],y_lim = [0,0]):\n",
    "    errors = abs(predictions - test_labels)\n",
    "    MSE = np.square(np.subtract(test_labels,predictions)).mean()\n",
    "    RMSE = math.sqrt(MSE)\n",
    "    print('Model Performance')\n",
    "    #print('Mean squared error: {:0.4f} degrees.', MSE)\n",
    "    print('RMSE = {:0.6f} '.format(RMSE)+unit)\n",
    "    \n",
    "    fig = plt.figure(dpi=250,figsize=(5,4)) \n",
    "    ax = fig.add_subplot() \n",
    "    plt.xlabel('Experimental $log_{10}(σ)$')\n",
    "    ax.set_ylabel('Predicted $log_{10}(σ)$')\n",
    "    y = predictions\n",
    "    y = np.reshape(y,-1)\n",
    "    z = test_labels\n",
    "    z = np.reshape(z,-1)\n",
    "    minz = np.min(z)\n",
    "    maxz = np.max(z)\n",
    "\n",
    "    if plot == 'on':\n",
    "        # plt.scatter(test_labels,predictions, color='steelblue',edgecolor='k', marker='o', label='RMSE: ' + str(round(RMSE,2)) + unit)\n",
    "        plt.scatter(test_labels,predictions, color='steelblue',edgecolor='k', marker='o')\n",
    "        # plt.scatter(range(0,len(z)), z, color='red',marker='x', label='Actual')\n",
    "        # plt.scatter(range(0,len(y)), y, color='k',marker='o', label='Predicted')\n",
    "        # plt.legend(fontsize=10)\n",
    "        \n",
    "        if axis == 'auto':\n",
    "            plt.xlim(x_lim)\n",
    "            plt.ylim(y_lim)\n",
    "\n",
    "        x_limits = ax.get_xlim()\n",
    "        y_limits = ax.get_ylim()\n",
    "        \n",
    "        plt.plot(x_limits,y_limits,color='k',linestyle='dashed',linewidth=2) # identity line\n",
    "\n",
    "    return RMSE"
   ]
  },
  {
   "cell_type": "code",
   "execution_count": 12,
   "id": "8929edd6",
   "metadata": {
    "jupyter": {
     "source_hidden": true
    }
   },
   "outputs": [],
   "source": [
    "def ensemble(model_list, dataset, test_labels):\n",
    "    prediction_list = []\n",
    "    errors = {\"Model\":model_list}\n",
    "    errors_df = pd.DataFrame(errors)\n",
    "    for i in range(len(model_list)):\n",
    "        model = tf.keras.models.load_model(model_list[i])\n",
    "        predictions = model.predict(dataset.batch(1))\n",
    "        y = np.power(10,prediction)/1E3\n",
    "        y = np.reshape(y,-1)\n",
    "        error = evaluate(y,test_labels,'(mS/cm)')\n",
    "        errors_df[\"Error (mS/cm)\"] = error\n",
    "    \n",
    "    return errors"
   ]
  },
  {
   "cell_type": "code",
   "execution_count": 13,
   "id": "b2936c45",
   "metadata": {
    "collapsed": true,
    "jupyter": {
     "outputs_hidden": true,
     "source_hidden": true
    }
   },
   "outputs": [
    {
     "name": "stdout",
     "output_type": "stream",
     "text": [
      "Model Performance\n",
      "RMSE = 0.118546 uS/cm\n",
      "0.9722816665818652\n"
     ]
    },
    {
     "data": {
      "image/png": "[encoded data removed]",
      "text/plain": [
       "<Figure size 1250x1000 with 1 Axes>"
      ]
     },
     "metadata": {},
     "output_type": "display_data"
    }
   ],
   "source": [
    "y = np.power(10,prediction)/1E3\n",
    "y = np.reshape(y,-1)\n",
    "z = np.power(10,data[property_columns])/1E3\n",
    "z = np.reshape(z,-1)\n",
    "\n",
    "logy = np.reshape(prediction,-1)\n",
    "logz = np.reshape(data[property_columns],-1) \n",
    "\n",
    "unit = \"(mS/cm)\"\n",
    "\n",
    "# rmse = evaluate(y, z, unit,plot='on')\n",
    "error = evaluate(prediction,data[property_columns],unit = 'uS/cm',plot='on',axis='off',x_lim = [-3,5],y_lim = [-3,5]) \n",
    "\n",
    "R2_log = r2_score(data[property_columns], prediction)\n",
    "\n",
    "\n",
    "x = data[formulations_concer_columns+formulations_smiles_columns+cathode_loading_columns]\n",
    "df = pd.DataFrame({'pred mS/cm':y,\"label mS/cm \"+unit:z,'pred log(uS/cm}':logy,'label log (uS/cm)':logz})\n",
    "df = df.join(x)\n",
    "df.to_excel(modelname+'_pred.xlsx')\n",
    "print(R2_log)\n"
   ]
  },
  {
   "cell_type": "code",
   "execution_count": 38,
   "id": "c53a34bd",
   "metadata": {},
   "outputs": [
    {
     "data": {
      "image/png": "[encoded data removed]",
      "text/plain": [
       "<Figure size 1250x1000 with 1 Axes>"
      ]
     },
     "metadata": {},
     "output_type": "display_data"
    }
   ],
   "source": [
    "train_data = pd.read_csv('train_combdata_082324_pred.csv')\n",
    "test_data = pd.read_csv('test_combdata_082324_pred.csv')\n",
    "\n",
    "\n",
    "fig = plt.figure(dpi=250,figsize=(5,4)) \n",
    "ax = fig.add_subplot() \n",
    "plt.xlabel('Experimental $log_{10}(σ)$')\n",
    "ax.set_ylabel('Predicted $log_{10}(σ)$')\n",
    "\n",
    "plt.scatter(train_data['IC Actual'],train_data['IC Pred'], color='yellowgreen',edgecolor='k', marker='o',label='train')\n",
    "plt.scatter(test_data['IC Actual'],test_data['IC Pred'], color='steelblue',edgecolor='k', marker='o',label='test')\n",
    "\n",
    "# plt.scatter(range(0,len(z)), z, color='red',marker='x', label='Actual')\n",
    "# plt.scatter(range(0,len(y)), y, color='k',marker='o', label='Predicted')\n",
    "plt.legend(fontsize=10)\n",
    "\n",
    "plt.xlim([-3,5])\n",
    "plt.ylim([-3,5])\n",
    "\n",
    "x_limits = ax.get_xlim()\n",
    "y_limits = ax.get_ylim()\n",
    "\n",
    "\n",
    "plt.plot(x_limits,y_limits,color='k',linestyle='dashed',linewidth=2) # identity line\n",
    "\n",
    "plt.show()\n"
   ]
  },
  {
   "cell_type": "code",
   "execution_count": null,
   "id": "6631b461-4377-46af-988f-8a070580d5b1",
   "metadata": {},
   "outputs": [],
   "source": []
  }
 ],
 "metadata": {
  "kernelspec": {
   "display_name": "Python 3 (ipykernel)",
   "language": "python",
   "name": "python3"
  },
  "language_info": {
   "codemirror_mode": {
    "name": "ipython",
    "version": 3
   },
   "file_extension": ".py",
   "mimetype": "text/x-python",
   "name": "python",
   "nbconvert_exporter": "python",
   "pygments_lexer": "ipython3",
   "version": "3.8.17"
  }
 },
 "nbformat": 4,
 "nbformat_minor": 5
}
